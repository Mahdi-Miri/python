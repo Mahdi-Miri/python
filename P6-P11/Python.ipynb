{
  "nbformat": 4,
  "nbformat_minor": 0,
  "metadata": {
    "colab": {
      "provenance": [],
      "authorship_tag": "ABX9TyPkzqPgZKFSA+3eBnuvFBCU",
      "include_colab_link": true
    },
    "kernelspec": {
      "name": "python3",
      "display_name": "Python 3"
    },
    "language_info": {
      "name": "python"
    }
  },
  "cells": [
    {
      "cell_type": "markdown",
      "metadata": {
        "id": "view-in-github",
        "colab_type": "text"
      },
      "source": [
        "<a href=\"https://colab.research.google.com/github/Mahdi-Miri/python/blob/main/P6-P11/Python.ipynb\" target=\"_parent\"><img src=\"https://colab.research.google.com/assets/colab-badge.svg\" alt=\"Open In Colab\"/></a>"
      ]
    },
    {
      "cell_type": "markdown",
      "source": [
        "# Work On Concepts\n"
      ],
      "metadata": {
        "id": "ZlPBrOtkeofh"
      }
    },
    {
      "cell_type": "markdown",
      "source": [
        "# Part 6"
      ],
      "metadata": {
        "id": "0jZClRAle1YJ"
      }
    },
    {
      "cell_type": "code",
      "execution_count": 5,
      "metadata": {
        "colab": {
          "base_uri": "https://localhost:8080/"
        },
        "id": "P1epoH5hcUSH",
        "outputId": "40b31eb1-5291-4d73-fdd7-17287b9e0070"
      },
      "outputs": [
        {
          "output_type": "stream",
          "name": "stdout",
          "text": [
            "[1, 2, 3]\n"
          ]
        }
      ],
      "source": [
        "my_list = [1,2,3]\n",
        "print(my_list)"
      ]
    },
    {
      "cell_type": "code",
      "source": [
        "my_list = [10 , 23 , 42 , 32 ]\n",
        "print(my_list[3])"
      ],
      "metadata": {
        "colab": {
          "base_uri": "https://localhost:8080/"
        },
        "id": "irrw7BZLczqA",
        "outputId": "e5bfaee0-4cd6-48e3-a9cd-248ac54d103a"
      },
      "execution_count": 6,
      "outputs": [
        {
          "output_type": "stream",
          "name": "stdout",
          "text": [
            "32\n"
          ]
        }
      ]
    },
    {
      "cell_type": "code",
      "source": [
        "del my_list[-1]\n",
        "print(my_list)\n",
        "last_element = my_list.pop()\n",
        "print(last_element)"
      ],
      "metadata": {
        "colab": {
          "base_uri": "https://localhost:8080/"
        },
        "id": "TWTDXBTNc-uo",
        "outputId": "ae0f16c5-4cf0-45b9-8103-a1999c7473f7"
      },
      "execution_count": 7,
      "outputs": [
        {
          "output_type": "stream",
          "name": "stdout",
          "text": [
            "[10, 23, 42]\n",
            "42\n"
          ]
        }
      ]
    },
    {
      "cell_type": "code",
      "source": [
        "my_list = [1 , 2, 3, 4,3 ,3,2,2,1,4]\n",
        "print(my_list)\n",
        "\n",
        "my_list.insert(2,85)\n",
        "print(my_list)"
      ],
      "metadata": {
        "colab": {
          "base_uri": "https://localhost:8080/"
        },
        "id": "cuUXelmtdS3Y",
        "outputId": "8b1f7525-fb8b-4b70-d66d-5c0769cf7d55"
      },
      "execution_count": 8,
      "outputs": [
        {
          "output_type": "stream",
          "name": "stdout",
          "text": [
            "[1, 2, 3, 4, 3, 3, 2, 2, 1, 4]\n",
            "[1, 2, 85, 3, 4, 3, 3, 2, 2, 1, 4]\n"
          ]
        }
      ]
    },
    {
      "cell_type": "code",
      "source": [
        "my_list.sort()\n",
        "print(my_list)\n",
        "my_list.reverse()\n",
        "print(my_list)"
      ],
      "metadata": {
        "colab": {
          "base_uri": "https://localhost:8080/"
        },
        "id": "uBu2Zpdddppa",
        "outputId": "1c18b7f1-cdb8-4e9a-a720-784e3a12ab41"
      },
      "execution_count": 9,
      "outputs": [
        {
          "output_type": "stream",
          "name": "stdout",
          "text": [
            "[1, 1, 2, 2, 2, 3, 3, 3, 4, 4, 85]\n",
            "[85, 4, 4, 3, 3, 3, 2, 2, 2, 1, 1]\n"
          ]
        }
      ]
    },
    {
      "cell_type": "code",
      "source": [
        "for i in my_list:\n",
        "  print(i)"
      ],
      "metadata": {
        "colab": {
          "base_uri": "https://localhost:8080/"
        },
        "id": "jEc8h_LVeMcA",
        "outputId": "e25120cc-1109-4059-c1ee-f996cfddc4be"
      },
      "execution_count": 10,
      "outputs": [
        {
          "output_type": "stream",
          "name": "stdout",
          "text": [
            "85\n",
            "4\n",
            "4\n",
            "3\n",
            "3\n",
            "3\n",
            "2\n",
            "2\n",
            "2\n",
            "1\n",
            "1\n"
          ]
        }
      ]
    },
    {
      "cell_type": "code",
      "source": [
        "my_tuple = tuple(my_list)\n",
        "print(my_tuple)\n",
        "my_set = set(my_tuple)\n",
        "print(my_set)"
      ],
      "metadata": {
        "colab": {
          "base_uri": "https://localhost:8080/"
        },
        "id": "YbejGO6CeR2o",
        "outputId": "2be9612c-d699-4fdd-ed58-0a076a38a194"
      },
      "execution_count": 11,
      "outputs": [
        {
          "output_type": "stream",
          "name": "stdout",
          "text": [
            "(85, 4, 4, 3, 3, 3, 2, 2, 2, 1, 1)\n",
            "{1, 2, 3, 4, 85}\n"
          ]
        }
      ]
    },
    {
      "cell_type": "markdown",
      "source": [
        "# Part 7"
      ],
      "metadata": {
        "id": "2rkqgm6Je-Vi"
      }
    },
    {
      "cell_type": "code",
      "source": [
        "my_tuple = (1 ,2, 3)"
      ],
      "metadata": {
        "id": "6JQtOQsnfBZx"
      },
      "execution_count": 12,
      "outputs": []
    },
    {
      "cell_type": "code",
      "source": [
        "print(my_tuple[2])"
      ],
      "metadata": {
        "colab": {
          "base_uri": "https://localhost:8080/"
        },
        "id": "c629VBeufmlA",
        "outputId": "9e770d32-db5e-4fba-e37e-14fb955b17c3"
      },
      "execution_count": 13,
      "outputs": [
        {
          "output_type": "stream",
          "name": "stdout",
          "text": [
            "3\n"
          ]
        }
      ]
    },
    {
      "cell_type": "code",
      "source": [
        "for i in my_tuple:\n",
        "  print(i)"
      ],
      "metadata": {
        "colab": {
          "base_uri": "https://localhost:8080/"
        },
        "id": "E1HZxBy4fo2o",
        "outputId": "7a716cf7-5d5a-421d-8d83-2ddcc7014b5d"
      },
      "execution_count": 14,
      "outputs": [
        {
          "output_type": "stream",
          "name": "stdout",
          "text": [
            "1\n",
            "2\n",
            "3\n"
          ]
        }
      ]
    },
    {
      "cell_type": "code",
      "source": [
        "my_list = list(my_tuple)\n",
        "print(my_list)"
      ],
      "metadata": {
        "colab": {
          "base_uri": "https://localhost:8080/"
        },
        "id": "3Yx95mmjfuD9",
        "outputId": "4f16d675-ce7a-4f4c-8408-ba7383283c75"
      },
      "execution_count": 15,
      "outputs": [
        {
          "output_type": "stream",
          "name": "stdout",
          "text": [
            "[1, 2, 3]\n"
          ]
        }
      ]
    },
    {
      "cell_type": "markdown",
      "source": [
        "# Part 8"
      ],
      "metadata": {
        "id": "E0KRQh6ggSG_"
      }
    },
    {
      "cell_type": "code",
      "source": [
        "my_set = {1 ,2 ,3 ,5}"
      ],
      "metadata": {
        "id": "U8maiEh1gU39"
      },
      "execution_count": 16,
      "outputs": []
    },
    {
      "cell_type": "code",
      "source": [
        "my_set.add(4)"
      ],
      "metadata": {
        "id": "hgKHLmsLhZ2_"
      },
      "execution_count": 17,
      "outputs": []
    },
    {
      "cell_type": "code",
      "source": [
        "print(my_set)"
      ],
      "metadata": {
        "id": "DnNIhfKOhcrE",
        "outputId": "f0f77cc2-c6d7-4615-824b-1a6cff44db66",
        "colab": {
          "base_uri": "https://localhost:8080/"
        }
      },
      "execution_count": 18,
      "outputs": [
        {
          "output_type": "stream",
          "name": "stdout",
          "text": [
            "{1, 2, 3, 4, 5}\n"
          ]
        }
      ]
    },
    {
      "cell_type": "code",
      "source": [
        "my_set.remove(1)\n",
        "print(my_set)"
      ],
      "metadata": {
        "id": "mkcqbTNChfoa",
        "outputId": "79a6e917-a0aa-4ca2-89d8-2226c8fd3d50",
        "colab": {
          "base_uri": "https://localhost:8080/"
        }
      },
      "execution_count": 19,
      "outputs": [
        {
          "output_type": "stream",
          "name": "stdout",
          "text": [
            "{2, 3, 4, 5}\n"
          ]
        }
      ]
    },
    {
      "cell_type": "code",
      "source": [
        "set2 = {6,7,8}"
      ],
      "metadata": {
        "id": "hQG7toZjhlHh"
      },
      "execution_count": 20,
      "outputs": []
    },
    {
      "cell_type": "code",
      "source": [
        "union_set = my_set.union(set2)\n",
        "print(union_set)"
      ],
      "metadata": {
        "id": "ip_CauQNhlFQ",
        "outputId": "fe11230c-05b5-4587-cc41-edf44cc63a05",
        "colab": {
          "base_uri": "https://localhost:8080/"
        }
      },
      "execution_count": 21,
      "outputs": [
        {
          "output_type": "stream",
          "name": "stdout",
          "text": [
            "{2, 3, 4, 5, 6, 7, 8}\n"
          ]
        }
      ]
    },
    {
      "cell_type": "code",
      "source": [
        "intersection = my_set.intersection(union_set)\n",
        "print(intersection)"
      ],
      "metadata": {
        "id": "O9cjOkBzh5yJ",
        "outputId": "ff254e7a-b299-4b56-c9f4-d0a6850d3823",
        "colab": {
          "base_uri": "https://localhost:8080/"
        }
      },
      "execution_count": 22,
      "outputs": [
        {
          "output_type": "stream",
          "name": "stdout",
          "text": [
            "{2, 3, 4, 5}\n"
          ]
        }
      ]
    },
    {
      "cell_type": "code",
      "source": [
        "difference_set = my_set.difference(union_set)\n",
        "print(difference_set)"
      ],
      "metadata": {
        "id": "yekw5n1NiVEu",
        "outputId": "e376f89c-f487-4144-9b4f-97c5a04a49e2",
        "colab": {
          "base_uri": "https://localhost:8080/"
        }
      },
      "execution_count": 24,
      "outputs": [
        {
          "output_type": "stream",
          "name": "stdout",
          "text": [
            "set()\n"
          ]
        }
      ]
    },
    {
      "cell_type": "code",
      "source": [
        "duplicated_set = {1,1,1,1,2,3,4,4,4,4}\n",
        "print(duplicated_set)"
      ],
      "metadata": {
        "id": "Yh0F65zSihof",
        "outputId": "08dbb1f9-5c5a-4b72-c1ff-cd908b3c4f82",
        "colab": {
          "base_uri": "https://localhost:8080/"
        }
      },
      "execution_count": 26,
      "outputs": [
        {
          "output_type": "stream",
          "name": "stdout",
          "text": [
            "{1, 2, 3, 4}\n"
          ]
        }
      ]
    }
  ]
}