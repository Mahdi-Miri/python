{
  "nbformat": 4,
  "nbformat_minor": 0,
  "metadata": {
    "colab": {
      "provenance": [],
      "authorship_tag": "ABX9TyMabjm8BAnj4gH7/gQTD8Hf",
      "include_colab_link": true
    },
    "kernelspec": {
      "name": "python3",
      "display_name": "Python 3"
    },
    "language_info": {
      "name": "python"
    }
  },
  "cells": [
    {
      "cell_type": "markdown",
      "metadata": {
        "id": "view-in-github",
        "colab_type": "text"
      },
      "source": [
        "<a href=\"https://colab.research.google.com/github/Mahdi-Miri/python/blob/main/P6-P11/Python.ipynb\" target=\"_parent\"><img src=\"https://colab.research.google.com/assets/colab-badge.svg\" alt=\"Open In Colab\"/></a>"
      ]
    },
    {
      "cell_type": "markdown",
      "source": [
        "# Work On Concepts\n"
      ],
      "metadata": {
        "id": "ZlPBrOtkeofh"
      }
    },
    {
      "cell_type": "markdown",
      "source": [
        "# Part 6"
      ],
      "metadata": {
        "id": "0jZClRAle1YJ"
      }
    },
    {
      "cell_type": "code",
      "execution_count": 5,
      "metadata": {
        "colab": {
          "base_uri": "https://localhost:8080/"
        },
        "id": "P1epoH5hcUSH",
        "outputId": "40b31eb1-5291-4d73-fdd7-17287b9e0070"
      },
      "outputs": [
        {
          "output_type": "stream",
          "name": "stdout",
          "text": [
            "[1, 2, 3]\n"
          ]
        }
      ],
      "source": [
        "my_list = [1,2,3]\n",
        "print(my_list)"
      ]
    },
    {
      "cell_type": "code",
      "source": [
        "my_list = [10 , 23 , 42 , 32 ]\n",
        "print(my_list[3])"
      ],
      "metadata": {
        "id": "irrw7BZLczqA",
        "outputId": "e5bfaee0-4cd6-48e3-a9cd-248ac54d103a",
        "colab": {
          "base_uri": "https://localhost:8080/"
        }
      },
      "execution_count": 6,
      "outputs": [
        {
          "output_type": "stream",
          "name": "stdout",
          "text": [
            "32\n"
          ]
        }
      ]
    },
    {
      "cell_type": "code",
      "source": [
        "del my_list[-1]\n",
        "print(my_list)\n",
        "last_element = my_list.pop()\n",
        "print(last_element)"
      ],
      "metadata": {
        "id": "TWTDXBTNc-uo",
        "outputId": "ae0f16c5-4cf0-45b9-8103-a1999c7473f7",
        "colab": {
          "base_uri": "https://localhost:8080/"
        }
      },
      "execution_count": 7,
      "outputs": [
        {
          "output_type": "stream",
          "name": "stdout",
          "text": [
            "[10, 23, 42]\n",
            "42\n"
          ]
        }
      ]
    },
    {
      "cell_type": "code",
      "source": [
        "my_list = [1 , 2, 3, 4,3 ,3,2,2,1,4]\n",
        "print(my_list)\n",
        "\n",
        "my_list.insert(2,85)\n",
        "print(my_list)"
      ],
      "metadata": {
        "id": "cuUXelmtdS3Y",
        "outputId": "8b1f7525-fb8b-4b70-d66d-5c0769cf7d55",
        "colab": {
          "base_uri": "https://localhost:8080/"
        }
      },
      "execution_count": 8,
      "outputs": [
        {
          "output_type": "stream",
          "name": "stdout",
          "text": [
            "[1, 2, 3, 4, 3, 3, 2, 2, 1, 4]\n",
            "[1, 2, 85, 3, 4, 3, 3, 2, 2, 1, 4]\n"
          ]
        }
      ]
    },
    {
      "cell_type": "code",
      "source": [
        "my_list.sort()\n",
        "print(my_list)\n",
        "my_list.reverse()\n",
        "print(my_list)"
      ],
      "metadata": {
        "id": "uBu2Zpdddppa",
        "outputId": "1c18b7f1-cdb8-4e9a-a720-784e3a12ab41",
        "colab": {
          "base_uri": "https://localhost:8080/"
        }
      },
      "execution_count": 9,
      "outputs": [
        {
          "output_type": "stream",
          "name": "stdout",
          "text": [
            "[1, 1, 2, 2, 2, 3, 3, 3, 4, 4, 85]\n",
            "[85, 4, 4, 3, 3, 3, 2, 2, 2, 1, 1]\n"
          ]
        }
      ]
    },
    {
      "cell_type": "code",
      "source": [
        "for i in my_list:\n",
        "  print(i)"
      ],
      "metadata": {
        "id": "jEc8h_LVeMcA",
        "outputId": "e25120cc-1109-4059-c1ee-f996cfddc4be",
        "colab": {
          "base_uri": "https://localhost:8080/"
        }
      },
      "execution_count": 10,
      "outputs": [
        {
          "output_type": "stream",
          "name": "stdout",
          "text": [
            "85\n",
            "4\n",
            "4\n",
            "3\n",
            "3\n",
            "3\n",
            "2\n",
            "2\n",
            "2\n",
            "1\n",
            "1\n"
          ]
        }
      ]
    },
    {
      "cell_type": "code",
      "source": [
        "my_tuple = tuple(my_list)\n",
        "print(my_tuple)\n",
        "my_set = set(my_tuple)\n",
        "print(my_set)"
      ],
      "metadata": {
        "id": "YbejGO6CeR2o",
        "outputId": "2be9612c-d699-4fdd-ed58-0a076a38a194",
        "colab": {
          "base_uri": "https://localhost:8080/"
        }
      },
      "execution_count": 11,
      "outputs": [
        {
          "output_type": "stream",
          "name": "stdout",
          "text": [
            "(85, 4, 4, 3, 3, 3, 2, 2, 2, 1, 1)\n",
            "{1, 2, 3, 4, 85}\n"
          ]
        }
      ]
    },
    {
      "cell_type": "markdown",
      "source": [
        "# Part 7"
      ],
      "metadata": {
        "id": "2rkqgm6Je-Vi"
      }
    },
    {
      "cell_type": "code",
      "source": [],
      "metadata": {
        "id": "6JQtOQsnfBZx"
      },
      "execution_count": null,
      "outputs": []
    }
  ]
}