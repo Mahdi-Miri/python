{
  "nbformat": 4,
  "nbformat_minor": 0,
  "metadata": {
    "colab": {
      "provenance": [],
      "authorship_tag": "ABX9TyOgT1XvGznAo5PWQO2Pu5BL",
      "include_colab_link": true
    },
    "kernelspec": {
      "name": "python3",
      "display_name": "Python 3"
    },
    "language_info": {
      "name": "python"
    }
  },
  "cells": [
    {
      "cell_type": "markdown",
      "metadata": {
        "id": "view-in-github",
        "colab_type": "text"
      },
      "source": [
        "<a href=\"https://colab.research.google.com/github/Mahdi-Miri/python/blob/main/P12-P16/Python.ipynb\" target=\"_parent\"><img src=\"https://colab.research.google.com/assets/colab-badge.svg\" alt=\"Open In Colab\"/></a>"
      ]
    },
    {
      "cell_type": "markdown",
      "source": [
        "# Work On Concepts\n"
      ],
      "metadata": {
        "id": "ZlPBrOtkeofh"
      }
    },
    {
      "cell_type": "markdown",
      "source": [
        "# Part 6"
      ],
      "metadata": {
        "id": "0jZClRAle1YJ"
      }
    },
    {
      "cell_type": "code",
      "execution_count": 1,
      "metadata": {
        "colab": {
          "base_uri": "https://localhost:8080/"
        },
        "id": "P1epoH5hcUSH",
        "outputId": "a0fa9574-a53b-4648-e327-f661a71964b6"
      },
      "outputs": [
        {
          "output_type": "stream",
          "name": "stdout",
          "text": [
            "[1, 2, 3]\n"
          ]
        }
      ],
      "source": [
        "my_list = [1,2,3]\n",
        "print(my_list)"
      ]
    },
    {
      "cell_type": "code",
      "source": [
        "my_list = [10 , 23 , 42 , 32 ]\n",
        "print(my_list[3])"
      ],
      "metadata": {
        "colab": {
          "base_uri": "https://localhost:8080/"
        },
        "id": "irrw7BZLczqA",
        "outputId": "b4d7bea9-141b-4f0d-b41b-919d98d54476"
      },
      "execution_count": 2,
      "outputs": [
        {
          "output_type": "stream",
          "name": "stdout",
          "text": [
            "32\n"
          ]
        }
      ]
    },
    {
      "cell_type": "code",
      "source": [
        "del my_list[-1]\n",
        "print(my_list)\n",
        "last_element = my_list.pop()\n",
        "print(last_element)"
      ],
      "metadata": {
        "colab": {
          "base_uri": "https://localhost:8080/"
        },
        "id": "TWTDXBTNc-uo",
        "outputId": "6cf3786e-ed52-4b54-bf09-60ca46c60633"
      },
      "execution_count": 3,
      "outputs": [
        {
          "output_type": "stream",
          "name": "stdout",
          "text": [
            "[10, 23, 42]\n",
            "42\n"
          ]
        }
      ]
    },
    {
      "cell_type": "code",
      "source": [
        "my_list = [1 , 2, 3, 4,3 ,3,2,2,1,4]\n",
        "print(my_list)\n",
        "\n",
        "my_list.insert(2,85)\n",
        "print(my_list)"
      ],
      "metadata": {
        "colab": {
          "base_uri": "https://localhost:8080/"
        },
        "id": "cuUXelmtdS3Y",
        "outputId": "7ed921ac-22a2-40f1-9b37-22adbc38e48d"
      },
      "execution_count": 4,
      "outputs": [
        {
          "output_type": "stream",
          "name": "stdout",
          "text": [
            "[1, 2, 3, 4, 3, 3, 2, 2, 1, 4]\n",
            "[1, 2, 85, 3, 4, 3, 3, 2, 2, 1, 4]\n"
          ]
        }
      ]
    },
    {
      "cell_type": "code",
      "source": [
        "my_list.sort()\n",
        "print(my_list)\n",
        "my_list.reverse()\n",
        "print(my_list)"
      ],
      "metadata": {
        "colab": {
          "base_uri": "https://localhost:8080/"
        },
        "id": "uBu2Zpdddppa",
        "outputId": "00ee5639-d6f4-47cc-ef4d-478d7f7d90d5"
      },
      "execution_count": 5,
      "outputs": [
        {
          "output_type": "stream",
          "name": "stdout",
          "text": [
            "[1, 1, 2, 2, 2, 3, 3, 3, 4, 4, 85]\n",
            "[85, 4, 4, 3, 3, 3, 2, 2, 2, 1, 1]\n"
          ]
        }
      ]
    },
    {
      "cell_type": "code",
      "source": [
        "for i in my_list:\n",
        "  print(i)"
      ],
      "metadata": {
        "colab": {
          "base_uri": "https://localhost:8080/"
        },
        "id": "jEc8h_LVeMcA",
        "outputId": "ff6378e4-f688-4e3e-8373-77bb7205f7ef"
      },
      "execution_count": 6,
      "outputs": [
        {
          "output_type": "stream",
          "name": "stdout",
          "text": [
            "85\n",
            "4\n",
            "4\n",
            "3\n",
            "3\n",
            "3\n",
            "2\n",
            "2\n",
            "2\n",
            "1\n",
            "1\n"
          ]
        }
      ]
    },
    {
      "cell_type": "code",
      "source": [
        "my_tuple = tuple(my_list)\n",
        "print(my_tuple)\n",
        "my_set = set(my_tuple)\n",
        "print(my_set)"
      ],
      "metadata": {
        "colab": {
          "base_uri": "https://localhost:8080/"
        },
        "id": "YbejGO6CeR2o",
        "outputId": "1e43ebe5-0d7d-4fa2-8220-449fdc1fd25c"
      },
      "execution_count": 7,
      "outputs": [
        {
          "output_type": "stream",
          "name": "stdout",
          "text": [
            "(85, 4, 4, 3, 3, 3, 2, 2, 2, 1, 1)\n",
            "{1, 2, 3, 4, 85}\n"
          ]
        }
      ]
    },
    {
      "cell_type": "markdown",
      "source": [
        "# Part 7"
      ],
      "metadata": {
        "id": "2rkqgm6Je-Vi"
      }
    },
    {
      "cell_type": "code",
      "source": [
        "my_tuple = (1 ,2, 3)"
      ],
      "metadata": {
        "id": "6JQtOQsnfBZx"
      },
      "execution_count": 8,
      "outputs": []
    },
    {
      "cell_type": "code",
      "source": [
        "print(my_tuple[2])"
      ],
      "metadata": {
        "id": "c629VBeufmlA",
        "outputId": "9100775a-1fb4-473f-b5c6-53e1e90a3537",
        "colab": {
          "base_uri": "https://localhost:8080/"
        }
      },
      "execution_count": 9,
      "outputs": [
        {
          "output_type": "stream",
          "name": "stdout",
          "text": [
            "3\n"
          ]
        }
      ]
    },
    {
      "cell_type": "code",
      "source": [
        "for i in my_tuple:\n",
        "  print(i)"
      ],
      "metadata": {
        "id": "E1HZxBy4fo2o",
        "outputId": "faabca1d-8179-4381-e875-0572e044415c",
        "colab": {
          "base_uri": "https://localhost:8080/"
        }
      },
      "execution_count": 10,
      "outputs": [
        {
          "output_type": "stream",
          "name": "stdout",
          "text": [
            "1\n",
            "2\n",
            "3\n"
          ]
        }
      ]
    },
    {
      "cell_type": "code",
      "source": [
        "my_list = list(my_tuple)\n",
        "print(my_list)"
      ],
      "metadata": {
        "id": "3Yx95mmjfuD9",
        "outputId": "852ff881-9793-4497-e600-3de653f09f73",
        "colab": {
          "base_uri": "https://localhost:8080/"
        }
      },
      "execution_count": 11,
      "outputs": [
        {
          "output_type": "stream",
          "name": "stdout",
          "text": [
            "[1, 2, 3]\n"
          ]
        }
      ]
    },
    {
      "cell_type": "markdown",
      "source": [
        "# Part 12"
      ],
      "metadata": {
        "id": "JdK3FEZnBo4Y"
      }
    },
    {
      "cell_type": "code",
      "source": [
        "tuples = [(1,2) , (3,4) , (5,6)]\n",
        "\n",
        "for a,b in tuples:\n",
        "  print(a,b)\n",
        "\n",
        "dicts = {'a' : 1 , 'b': 2}\n",
        "for key, value in dicts.items():\n",
        "  print(key, value)\n"
      ],
      "metadata": {
        "colab": {
          "base_uri": "https://localhost:8080/"
        },
        "id": "HMzDppvLBrke",
        "outputId": "f3731f10-9ad5-42cf-97ab-0b29fd751757"
      },
      "execution_count": 12,
      "outputs": [
        {
          "output_type": "stream",
          "name": "stdout",
          "text": [
            "1 2\n",
            "3 4\n",
            "5 6\n",
            "a 1\n",
            "b 2\n"
          ]
        }
      ]
    },
    {
      "cell_type": "code",
      "source": [
        "for i in range(0,10,2):\n",
        "  print(i)"
      ],
      "metadata": {
        "colab": {
          "base_uri": "https://localhost:8080/"
        },
        "id": "MHBPVl2VCO_u",
        "outputId": "87cd6a80-51b7-4ebc-a115-493be761b557"
      },
      "execution_count": 13,
      "outputs": [
        {
          "output_type": "stream",
          "name": "stdout",
          "text": [
            "0\n",
            "2\n",
            "4\n",
            "6\n",
            "8\n"
          ]
        }
      ]
    },
    {
      "cell_type": "code",
      "source": [
        "for i in range(10,0,-1):\n",
        "  print(i)"
      ],
      "metadata": {
        "colab": {
          "base_uri": "https://localhost:8080/"
        },
        "id": "hY_aWEt1CmXH",
        "outputId": "665fb84c-3571-4dee-bbea-180befcac457"
      },
      "execution_count": 14,
      "outputs": [
        {
          "output_type": "stream",
          "name": "stdout",
          "text": [
            "10\n",
            "9\n",
            "8\n",
            "7\n",
            "6\n",
            "5\n",
            "4\n",
            "3\n",
            "2\n",
            "1\n"
          ]
        }
      ]
    },
    {
      "cell_type": "code",
      "source": [
        "#####??????????????????????????????????????################\n",
        "values = [1 , 2 , 3 , 4, 5 ,5 ,6]\n",
        "\n",
        "for n in values:\n",
        "  values.remove(n)\n",
        "\n",
        "print(values)"
      ],
      "metadata": {
        "colab": {
          "base_uri": "https://localhost:8080/"
        },
        "id": "Bp54st1bCrdy",
        "outputId": "8a92c393-92b7-4335-ee63-e6234ae9dc60"
      },
      "execution_count": 18,
      "outputs": [
        {
          "output_type": "stream",
          "name": "stdout",
          "text": [
            "[2, 4, 5]\n"
          ]
        }
      ]
    },
    {
      "cell_type": "code",
      "source": [
        "for i in values[:]:\n",
        "  values.remove(i)\n",
        "print(values)"
      ],
      "metadata": {
        "colab": {
          "base_uri": "https://localhost:8080/"
        },
        "id": "bYvaBDbYEBrk",
        "outputId": "cd7248ea-5ab2-4e21-b41e-2d60140e7d85"
      },
      "execution_count": 19,
      "outputs": [
        {
          "output_type": "stream",
          "name": "stdout",
          "text": [
            "[]\n"
          ]
        }
      ]
    },
    {
      "cell_type": "code",
      "source": [
        "values = [1,2,3,4]\n",
        "\n",
        "for i in reversed(values):\n",
        "  values.remove(i)\n",
        "\n",
        "print(values)"
      ],
      "metadata": {
        "colab": {
          "base_uri": "https://localhost:8080/"
        },
        "id": "IlUF6sCqELmX",
        "outputId": "b0d86f0f-d01c-4ede-f9b8-65d9387fc5b6"
      },
      "execution_count": 20,
      "outputs": [
        {
          "output_type": "stream",
          "name": "stdout",
          "text": [
            "[]\n"
          ]
        }
      ]
    },
    {
      "cell_type": "code",
      "source": [
        "numbers = [1,2,3,4,5,6]\n",
        "\n",
        "even_numbers = []\n",
        "\n",
        "for n in numbers:\n",
        "  if n % 2 == 0 :\n",
        "    even_numbers.append(n)\n",
        "print(even_numbers)"
      ],
      "metadata": {
        "colab": {
          "base_uri": "https://localhost:8080/"
        },
        "id": "3x-x41JDETmi",
        "outputId": "695971f2-da77-4ffb-cac8-d8024fc87e67"
      },
      "execution_count": 22,
      "outputs": [
        {
          "output_type": "stream",
          "name": "stdout",
          "text": [
            "[2, 4, 6]\n"
          ]
        }
      ]
    },
    {
      "cell_type": "code",
      "source": [
        "for i in range(10):\n",
        "  if i == 5:\n",
        "    break\n",
        "  print(i)"
      ],
      "metadata": {
        "colab": {
          "base_uri": "https://localhost:8080/"
        },
        "id": "jwQqmvtKGpKq",
        "outputId": "57118aa0-69d9-44dd-d8f5-8e598779cf82"
      },
      "execution_count": 23,
      "outputs": [
        {
          "output_type": "stream",
          "name": "stdout",
          "text": [
            "0\n",
            "1\n",
            "2\n",
            "3\n",
            "4\n"
          ]
        }
      ]
    },
    {
      "cell_type": "code",
      "source": [
        "for i in range(10):\n",
        "  if i % 2 != 0 :\n",
        "    continue\n",
        "  print(i)"
      ],
      "metadata": {
        "colab": {
          "base_uri": "https://localhost:8080/"
        },
        "id": "UJTGh1RHGxRr",
        "outputId": "a50385c3-f19b-4df7-8829-cf08d3000183"
      },
      "execution_count": 24,
      "outputs": [
        {
          "output_type": "stream",
          "name": "stdout",
          "text": [
            "0\n",
            "2\n",
            "4\n",
            "6\n",
            "8\n"
          ]
        }
      ]
    },
    {
      "cell_type": "code",
      "source": [
        "dicts = {'a': 1 , 'b' :2 }\n",
        "\n",
        "for key in dicts:\n",
        "  print(key)\n",
        "\n",
        "for key , values in dicts.items():\n",
        "  print(key , values)"
      ],
      "metadata": {
        "colab": {
          "base_uri": "https://localhost:8080/"
        },
        "id": "iPEptJLTHBdD",
        "outputId": "67412303-e8e6-4837-898b-4daf0083c491"
      },
      "execution_count": 25,
      "outputs": [
        {
          "output_type": "stream",
          "name": "stdout",
          "text": [
            "a\n",
            "b\n",
            "a 1\n",
            "b 2\n"
          ]
        }
      ]
    },
    {
      "cell_type": "markdown",
      "source": [
        "# Part 13"
      ],
      "metadata": {
        "id": "pNizKd9mNjDe"
      }
    },
    {
      "cell_type": "code",
      "source": [
        "squared = []\n",
        "\n",
        "for x in range(10):\n",
        "  squared.append(x**2)\n",
        "\n",
        "squared = [x**2 for x in range(10)]\n",
        "\n",
        "\n",
        "dicts = {x: x*2 for x in range(10)}\n",
        "\n",
        "print(\"squared = :\" , squared)\n",
        "print(\"dict = : \" , dicts)"
      ],
      "metadata": {
        "id": "LRrQaCvGNlEE",
        "outputId": "1d33fc02-3776-4228-f0cb-2e5b7159a82f",
        "colab": {
          "base_uri": "https://localhost:8080/"
        }
      },
      "execution_count": 26,
      "outputs": [
        {
          "output_type": "stream",
          "name": "stdout",
          "text": [
            "squared = : [0, 1, 4, 9, 16, 25, 36, 49, 64, 81]\n",
            "dict = :  {0: 0, 1: 2, 2: 4, 3: 6, 4: 8, 5: 10, 6: 12, 7: 14, 8: 16, 9: 18}\n"
          ]
        }
      ]
    },
    {
      "cell_type": "code",
      "source": [
        "count = 0\n",
        "while count <5 :\n",
        "  print(count)\n",
        "  count +=1\n"
      ],
      "metadata": {
        "id": "gL6fYhNxOaoB",
        "outputId": "7696adc6-4b75-4a48-d3d5-1b3f3707a182",
        "colab": {
          "base_uri": "https://localhost:8080/"
        }
      },
      "execution_count": 28,
      "outputs": [
        {
          "output_type": "stream",
          "name": "stdout",
          "text": [
            "0\n",
            "1\n",
            "2\n",
            "3\n",
            "4\n"
          ]
        }
      ]
    },
    {
      "cell_type": "code",
      "source": [
        "x = 0\n",
        "while x < 10 :\n",
        "  print(x)\n",
        "  x +=1\n"
      ],
      "metadata": {
        "id": "f4cOZR_7O1rH",
        "outputId": "8ed97c32-c561-4364-8a93-11c8bd186e9c",
        "colab": {
          "base_uri": "https://localhost:8080/"
        }
      },
      "execution_count": 29,
      "outputs": [
        {
          "output_type": "stream",
          "name": "stdout",
          "text": [
            "0\n",
            "1\n",
            "2\n",
            "3\n",
            "4\n",
            "5\n",
            "6\n",
            "7\n",
            "8\n",
            "9\n"
          ]
        }
      ]
    },
    {
      "cell_type": "code",
      "source": [
        "\n",
        "keep_going = True\n",
        "while keep_going and x<10 :\n",
        "  print(x)\n",
        "  x+=1"
      ],
      "metadata": {
        "id": "uvbOumzlO8ks",
        "outputId": "17284341-109c-402b-abf7-d2054dd2cb26",
        "colab": {
          "base_uri": "https://localhost:8080/"
        }
      },
      "execution_count": 32,
      "outputs": [
        {
          "output_type": "stream",
          "name": "stdout",
          "text": [
            "0\n",
            "1\n",
            "2\n",
            "3\n",
            "4\n",
            "5\n",
            "6\n",
            "7\n",
            "8\n",
            "9\n"
          ]
        }
      ]
    },
    {
      "cell_type": "code",
      "source": [
        "found  = False\n",
        "i = 0\n",
        "my_list = [2,3,54,75,65,434,56,43,67,77]\n",
        "item = 98\n",
        "while i < len(my_list) and not found:\n",
        "  if my_list[i] == item:\n",
        "    fount = True\n",
        "  else:\n",
        "    i += 1\n",
        "if not found:\n",
        "  print('item not found')"
      ],
      "metadata": {
        "id": "kX8PU4v-Ph3F",
        "outputId": "64ecb90e-e080-491e-ae20-daf3cf26d375",
        "colab": {
          "base_uri": "https://localhost:8080/"
        }
      },
      "execution_count": 33,
      "outputs": [
        {
          "output_type": "stream",
          "name": "stdout",
          "text": [
            "item not found\n"
          ]
        }
      ]
    },
    {
      "cell_type": "code",
      "source": [
        "max_iterations = 100\n",
        "i = 0\n",
        "while i < max_iterations:\n",
        "  print(i)\n",
        "  i += 1"
      ],
      "metadata": {
        "id": "6CbAigPiQdKn",
        "outputId": "62238255-5672-4211-f9f8-096d4f99e39a",
        "colab": {
          "base_uri": "https://localhost:8080/"
        }
      },
      "execution_count": 34,
      "outputs": [
        {
          "output_type": "stream",
          "name": "stdout",
          "text": [
            "0\n",
            "1\n",
            "2\n",
            "3\n",
            "4\n",
            "5\n",
            "6\n",
            "7\n",
            "8\n",
            "9\n",
            "10\n",
            "11\n",
            "12\n",
            "13\n",
            "14\n",
            "15\n",
            "16\n",
            "17\n",
            "18\n",
            "19\n",
            "20\n",
            "21\n",
            "22\n",
            "23\n",
            "24\n",
            "25\n",
            "26\n",
            "27\n",
            "28\n",
            "29\n",
            "30\n",
            "31\n",
            "32\n",
            "33\n",
            "34\n",
            "35\n",
            "36\n",
            "37\n",
            "38\n",
            "39\n",
            "40\n",
            "41\n",
            "42\n",
            "43\n",
            "44\n",
            "45\n",
            "46\n",
            "47\n",
            "48\n",
            "49\n",
            "50\n",
            "51\n",
            "52\n",
            "53\n",
            "54\n",
            "55\n",
            "56\n",
            "57\n",
            "58\n",
            "59\n",
            "60\n",
            "61\n",
            "62\n",
            "63\n",
            "64\n",
            "65\n",
            "66\n",
            "67\n",
            "68\n",
            "69\n",
            "70\n",
            "71\n",
            "72\n",
            "73\n",
            "74\n",
            "75\n",
            "76\n",
            "77\n",
            "78\n",
            "79\n",
            "80\n",
            "81\n",
            "82\n",
            "83\n",
            "84\n",
            "85\n",
            "86\n",
            "87\n",
            "88\n",
            "89\n",
            "90\n",
            "91\n",
            "92\n",
            "93\n",
            "94\n",
            "95\n",
            "96\n",
            "97\n",
            "98\n",
            "99\n"
          ]
        }
      ]
    }
  ]
}