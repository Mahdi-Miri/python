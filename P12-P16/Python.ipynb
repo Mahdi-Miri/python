{
  "nbformat": 4,
  "nbformat_minor": 0,
  "metadata": {
    "colab": {
      "provenance": [],
      "authorship_tag": "ABX9TyPkyqtTsgA9wBCpz8ns7FIb",
      "include_colab_link": true
    },
    "kernelspec": {
      "name": "python3",
      "display_name": "Python 3"
    },
    "language_info": {
      "name": "python"
    }
  },
  "cells": [
    {
      "cell_type": "markdown",
      "metadata": {
        "id": "view-in-github",
        "colab_type": "text"
      },
      "source": [
        "<a href=\"https://colab.research.google.com/github/Mahdi-Miri/python/blob/main/P12-P16/Python.ipynb\" target=\"_parent\"><img src=\"https://colab.research.google.com/assets/colab-badge.svg\" alt=\"Open In Colab\"/></a>"
      ]
    },
    {
      "cell_type": "markdown",
      "source": [
        "# Work On Concepts\n"
      ],
      "metadata": {
        "id": "ZlPBrOtkeofh"
      }
    },
    {
      "cell_type": "markdown",
      "source": [
        "# Part 6"
      ],
      "metadata": {
        "id": "0jZClRAle1YJ"
      }
    },
    {
      "cell_type": "code",
      "execution_count": null,
      "metadata": {
        "colab": {
          "base_uri": "https://localhost:8080/"
        },
        "id": "P1epoH5hcUSH",
        "outputId": "99440c53-9b89-4a82-8ed6-bd8f190e967b"
      },
      "outputs": [
        {
          "output_type": "stream",
          "name": "stdout",
          "text": [
            "[1, 2, 3]\n"
          ]
        }
      ],
      "source": [
        "my_list = [1,2,3]\n",
        "print(my_list)"
      ]
    },
    {
      "cell_type": "code",
      "source": [
        "my_list = [10 , 23 , 42 , 32 ]\n",
        "print(my_list[3])"
      ],
      "metadata": {
        "colab": {
          "base_uri": "https://localhost:8080/"
        },
        "id": "irrw7BZLczqA",
        "outputId": "1f70868d-3568-4a2e-c61c-bddf1de727b2"
      },
      "execution_count": null,
      "outputs": [
        {
          "output_type": "stream",
          "name": "stdout",
          "text": [
            "32\n"
          ]
        }
      ]
    },
    {
      "cell_type": "code",
      "source": [
        "del my_list[-1]\n",
        "print(my_list)\n",
        "last_element = my_list.pop()\n",
        "print(last_element)"
      ],
      "metadata": {
        "colab": {
          "base_uri": "https://localhost:8080/"
        },
        "id": "TWTDXBTNc-uo",
        "outputId": "893fa3e6-72ad-4163-d802-5b5c0f295c18"
      },
      "execution_count": null,
      "outputs": [
        {
          "output_type": "stream",
          "name": "stdout",
          "text": [
            "[10, 23, 42]\n",
            "42\n"
          ]
        }
      ]
    },
    {
      "cell_type": "code",
      "source": [
        "my_list = [1 , 2, 3, 4,3 ,3,2,2,1,4]\n",
        "print(my_list)\n",
        "\n",
        "my_list.insert(2,85)\n",
        "print(my_list)"
      ],
      "metadata": {
        "colab": {
          "base_uri": "https://localhost:8080/"
        },
        "id": "cuUXelmtdS3Y",
        "outputId": "32d45dfa-60b1-4afe-b77f-c77759ed8c88"
      },
      "execution_count": null,
      "outputs": [
        {
          "output_type": "stream",
          "name": "stdout",
          "text": [
            "[1, 2, 3, 4, 3, 3, 2, 2, 1, 4]\n",
            "[1, 2, 85, 3, 4, 3, 3, 2, 2, 1, 4]\n"
          ]
        }
      ]
    },
    {
      "cell_type": "code",
      "source": [
        "my_list.sort()\n",
        "print(my_list)\n",
        "my_list.reverse()\n",
        "print(my_list)"
      ],
      "metadata": {
        "colab": {
          "base_uri": "https://localhost:8080/"
        },
        "id": "uBu2Zpdddppa",
        "outputId": "640e66f8-f08a-4960-d0f1-33ed0eaa4346"
      },
      "execution_count": null,
      "outputs": [
        {
          "output_type": "stream",
          "name": "stdout",
          "text": [
            "[1, 1, 2, 2, 2, 3, 3, 3, 4, 4, 85]\n",
            "[85, 4, 4, 3, 3, 3, 2, 2, 2, 1, 1]\n"
          ]
        }
      ]
    },
    {
      "cell_type": "code",
      "source": [
        "for i in my_list:\n",
        "  print(i)"
      ],
      "metadata": {
        "colab": {
          "base_uri": "https://localhost:8080/"
        },
        "id": "jEc8h_LVeMcA",
        "outputId": "d3eff8dd-d45b-4ae0-f231-c6ef421e1b49"
      },
      "execution_count": null,
      "outputs": [
        {
          "output_type": "stream",
          "name": "stdout",
          "text": [
            "85\n",
            "4\n",
            "4\n",
            "3\n",
            "3\n",
            "3\n",
            "2\n",
            "2\n",
            "2\n",
            "1\n",
            "1\n"
          ]
        }
      ]
    },
    {
      "cell_type": "code",
      "source": [
        "my_tuple = tuple(my_list)\n",
        "print(my_tuple)\n",
        "my_set = set(my_tuple)\n",
        "print(my_set)"
      ],
      "metadata": {
        "colab": {
          "base_uri": "https://localhost:8080/"
        },
        "id": "YbejGO6CeR2o",
        "outputId": "e573ab8b-11a0-4633-ea86-722fa866f66f"
      },
      "execution_count": null,
      "outputs": [
        {
          "output_type": "stream",
          "name": "stdout",
          "text": [
            "(85, 4, 4, 3, 3, 3, 2, 2, 2, 1, 1)\n",
            "{1, 2, 3, 4, 85}\n"
          ]
        }
      ]
    },
    {
      "cell_type": "markdown",
      "source": [
        "# Part 7"
      ],
      "metadata": {
        "id": "2rkqgm6Je-Vi"
      }
    },
    {
      "cell_type": "code",
      "source": [
        "my_tuple = (1 ,2, 3)"
      ],
      "metadata": {
        "id": "6JQtOQsnfBZx"
      },
      "execution_count": null,
      "outputs": []
    },
    {
      "cell_type": "code",
      "source": [
        "print(my_tuple[2])"
      ],
      "metadata": {
        "id": "c629VBeufmlA",
        "outputId": "a209977b-59c3-4409-c393-046cf3e82fcf",
        "colab": {
          "base_uri": "https://localhost:8080/"
        }
      },
      "execution_count": null,
      "outputs": [
        {
          "output_type": "stream",
          "name": "stdout",
          "text": [
            "3\n"
          ]
        }
      ]
    },
    {
      "cell_type": "code",
      "source": [
        "for i in my_tuple:\n",
        "  print(i)"
      ],
      "metadata": {
        "id": "E1HZxBy4fo2o",
        "outputId": "b555a7cb-55bf-470d-f50d-92412d35e7dd",
        "colab": {
          "base_uri": "https://localhost:8080/"
        }
      },
      "execution_count": null,
      "outputs": [
        {
          "output_type": "stream",
          "name": "stdout",
          "text": [
            "1\n",
            "2\n",
            "3\n"
          ]
        }
      ]
    },
    {
      "cell_type": "code",
      "source": [
        "my_list = list(my_tuple)\n",
        "print(my_list)"
      ],
      "metadata": {
        "id": "3Yx95mmjfuD9",
        "outputId": "396002a2-3c47-43e6-912a-36fd7654306d",
        "colab": {
          "base_uri": "https://localhost:8080/"
        }
      },
      "execution_count": null,
      "outputs": [
        {
          "output_type": "stream",
          "name": "stdout",
          "text": [
            "[1, 2, 3]\n"
          ]
        }
      ]
    },
    {
      "cell_type": "markdown",
      "source": [
        "#nothing changed"
      ],
      "metadata": {
        "id": "0vBCEdqwj6cK"
      }
    },
    {
      "cell_type": "markdown",
      "source": [
        "# Part 12"
      ],
      "metadata": {
        "id": "JdK3FEZnBo4Y"
      }
    },
    {
      "cell_type": "code",
      "source": [
        "tuples = [(1,2) , (3,4) , (5,6)]\n",
        "\n",
        "for a,b in tuples:\n",
        "  print(a,b)\n",
        "\n",
        "dicts = {'a' : 1 , 'b': 2}\n",
        "for key, value in dicts.items():\n",
        "  print(key, value)\n"
      ],
      "metadata": {
        "colab": {
          "base_uri": "https://localhost:8080/"
        },
        "id": "HMzDppvLBrke",
        "outputId": "3ea80d62-8475-42ac-a185-b165244625aa"
      },
      "execution_count": null,
      "outputs": [
        {
          "output_type": "stream",
          "name": "stdout",
          "text": [
            "1 2\n",
            "3 4\n",
            "5 6\n",
            "a 1\n",
            "b 2\n"
          ]
        }
      ]
    },
    {
      "cell_type": "code",
      "source": [
        "for i in range(0,10,2):\n",
        "  print(i)"
      ],
      "metadata": {
        "colab": {
          "base_uri": "https://localhost:8080/"
        },
        "id": "MHBPVl2VCO_u",
        "outputId": "1f3c30d7-e6e1-4110-fba1-c4ac334e4fae"
      },
      "execution_count": null,
      "outputs": [
        {
          "output_type": "stream",
          "name": "stdout",
          "text": [
            "0\n",
            "2\n",
            "4\n",
            "6\n",
            "8\n"
          ]
        }
      ]
    },
    {
      "cell_type": "code",
      "source": [
        "for i in range(10,0,-1):\n",
        "  print(i)"
      ],
      "metadata": {
        "colab": {
          "base_uri": "https://localhost:8080/"
        },
        "id": "hY_aWEt1CmXH",
        "outputId": "353a8d76-f5e1-4b37-994f-bee28814ba6b"
      },
      "execution_count": null,
      "outputs": [
        {
          "output_type": "stream",
          "name": "stdout",
          "text": [
            "10\n",
            "9\n",
            "8\n",
            "7\n",
            "6\n",
            "5\n",
            "4\n",
            "3\n",
            "2\n",
            "1\n"
          ]
        }
      ]
    },
    {
      "cell_type": "code",
      "source": [
        "#####??????????????????????????????????????################\n",
        "values = [1 , 2 , 3 , 4, 5 ,5 ,6]\n",
        "\n",
        "for n in values:\n",
        "  values.remove(n)\n",
        "\n",
        "print(values)"
      ],
      "metadata": {
        "colab": {
          "base_uri": "https://localhost:8080/"
        },
        "id": "Bp54st1bCrdy",
        "outputId": "eb4fe871-c118-4bc0-cd36-d88cfff6e80d"
      },
      "execution_count": null,
      "outputs": [
        {
          "output_type": "stream",
          "name": "stdout",
          "text": [
            "[2, 4, 5]\n"
          ]
        }
      ]
    },
    {
      "cell_type": "code",
      "source": [
        "for i in values[:]:\n",
        "  values.remove(i)\n",
        "print(values)"
      ],
      "metadata": {
        "colab": {
          "base_uri": "https://localhost:8080/"
        },
        "id": "bYvaBDbYEBrk",
        "outputId": "d60c917b-850c-4d21-b6ad-00c32cb8dc86"
      },
      "execution_count": null,
      "outputs": [
        {
          "output_type": "stream",
          "name": "stdout",
          "text": [
            "[]\n"
          ]
        }
      ]
    },
    {
      "cell_type": "code",
      "source": [
        "values = [1,2,3,4]\n",
        "\n",
        "for i in reversed(values):\n",
        "  values.remove(i)\n",
        "\n",
        "print(values)"
      ],
      "metadata": {
        "colab": {
          "base_uri": "https://localhost:8080/"
        },
        "id": "IlUF6sCqELmX",
        "outputId": "131c2f93-cf50-47f8-af23-7fc688e6daae"
      },
      "execution_count": null,
      "outputs": [
        {
          "output_type": "stream",
          "name": "stdout",
          "text": [
            "[]\n"
          ]
        }
      ]
    },
    {
      "cell_type": "code",
      "source": [
        "numbers = [1,2,3,4,5,6]\n",
        "\n",
        "even_numbers = []\n",
        "\n",
        "for n in numbers:\n",
        "  if n % 2 == 0 :\n",
        "    even_numbers.append(n)\n",
        "print(even_numbers)"
      ],
      "metadata": {
        "colab": {
          "base_uri": "https://localhost:8080/"
        },
        "id": "3x-x41JDETmi",
        "outputId": "087cc7aa-7dee-46e9-be75-ed7913ed7a84"
      },
      "execution_count": null,
      "outputs": [
        {
          "output_type": "stream",
          "name": "stdout",
          "text": [
            "[2, 4, 6]\n"
          ]
        }
      ]
    },
    {
      "cell_type": "code",
      "source": [
        "for i in range(10):\n",
        "  if i == 5:\n",
        "    break\n",
        "  print(i)"
      ],
      "metadata": {
        "colab": {
          "base_uri": "https://localhost:8080/"
        },
        "id": "jwQqmvtKGpKq",
        "outputId": "ecee03c0-a0c0-41cd-b42f-c1b47f4e425f"
      },
      "execution_count": null,
      "outputs": [
        {
          "output_type": "stream",
          "name": "stdout",
          "text": [
            "0\n",
            "1\n",
            "2\n",
            "3\n",
            "4\n"
          ]
        }
      ]
    },
    {
      "cell_type": "code",
      "source": [
        "for i in range(10):\n",
        "  if i % 2 != 0 :\n",
        "    continue\n",
        "  print(i)"
      ],
      "metadata": {
        "colab": {
          "base_uri": "https://localhost:8080/"
        },
        "id": "UJTGh1RHGxRr",
        "outputId": "e08f1d00-6e56-4fa0-acbe-4db28083574e"
      },
      "execution_count": null,
      "outputs": [
        {
          "output_type": "stream",
          "name": "stdout",
          "text": [
            "0\n",
            "2\n",
            "4\n",
            "6\n",
            "8\n"
          ]
        }
      ]
    },
    {
      "cell_type": "code",
      "source": [
        "dicts = {'a': 1 , 'b' :2 }\n",
        "\n",
        "for key in dicts:\n",
        "  print(key)\n",
        "\n",
        "for key , values in dicts.items():\n",
        "  print(key , values)"
      ],
      "metadata": {
        "colab": {
          "base_uri": "https://localhost:8080/"
        },
        "id": "iPEptJLTHBdD",
        "outputId": "c5a7eee9-b558-4817-afcb-5168b38f99c7"
      },
      "execution_count": null,
      "outputs": [
        {
          "output_type": "stream",
          "name": "stdout",
          "text": [
            "a\n",
            "b\n",
            "a 1\n",
            "b 2\n"
          ]
        }
      ]
    },
    {
      "cell_type": "markdown",
      "source": [
        "# Part 13"
      ],
      "metadata": {
        "id": "pNizKd9mNjDe"
      }
    },
    {
      "cell_type": "code",
      "source": [
        "squared = []\n",
        "\n",
        "for x in range(10):\n",
        "  squared.append(x**2)\n",
        "\n",
        "squared = [x**2 for x in range(10)]\n",
        "\n",
        "\n",
        "dicts = {x: x*2 for x in range(10)}\n",
        "\n",
        "print(\"squared = :\" , squared)\n",
        "print(\"dict = : \" , dicts)"
      ],
      "metadata": {
        "colab": {
          "base_uri": "https://localhost:8080/"
        },
        "id": "LRrQaCvGNlEE",
        "outputId": "cc23c0a9-f3fa-45ee-c4e6-5a0d840d3004"
      },
      "execution_count": null,
      "outputs": [
        {
          "output_type": "stream",
          "name": "stdout",
          "text": [
            "squared = : [0, 1, 4, 9, 16, 25, 36, 49, 64, 81]\n",
            "dict = :  {0: 0, 1: 2, 2: 4, 3: 6, 4: 8, 5: 10, 6: 12, 7: 14, 8: 16, 9: 18}\n"
          ]
        }
      ]
    },
    {
      "cell_type": "code",
      "source": [
        "count = 0\n",
        "while count <5 :\n",
        "  print(count)\n",
        "  count +=1\n"
      ],
      "metadata": {
        "colab": {
          "base_uri": "https://localhost:8080/"
        },
        "id": "gL6fYhNxOaoB",
        "outputId": "b691c325-bbea-4dba-8712-fc2ff57839f9"
      },
      "execution_count": null,
      "outputs": [
        {
          "output_type": "stream",
          "name": "stdout",
          "text": [
            "0\n",
            "1\n",
            "2\n",
            "3\n",
            "4\n"
          ]
        }
      ]
    },
    {
      "cell_type": "code",
      "source": [
        "x = 0\n",
        "while x < 10 :\n",
        "  print(x)\n",
        "  x +=1\n"
      ],
      "metadata": {
        "colab": {
          "base_uri": "https://localhost:8080/"
        },
        "id": "f4cOZR_7O1rH",
        "outputId": "3b4a03c0-ce70-445d-c2e4-8e9231313c71"
      },
      "execution_count": null,
      "outputs": [
        {
          "output_type": "stream",
          "name": "stdout",
          "text": [
            "0\n",
            "1\n",
            "2\n",
            "3\n",
            "4\n",
            "5\n",
            "6\n",
            "7\n",
            "8\n",
            "9\n"
          ]
        }
      ]
    },
    {
      "cell_type": "code",
      "source": [
        "\n",
        "keep_going = True\n",
        "while keep_going and x<10 :\n",
        "  print(x)\n",
        "  x+=1"
      ],
      "metadata": {
        "id": "uvbOumzlO8ks"
      },
      "execution_count": null,
      "outputs": []
    },
    {
      "cell_type": "code",
      "source": [
        "found  = False\n",
        "i = 0\n",
        "my_list = [2,3,54,75,65,434,56,43,67,77]\n",
        "item = 98\n",
        "while i < len(my_list) and not found:\n",
        "  if my_list[i] == item:\n",
        "    fount = True\n",
        "  else:\n",
        "    i += 1\n",
        "if not found:\n",
        "  print('item not found')"
      ],
      "metadata": {
        "colab": {
          "base_uri": "https://localhost:8080/"
        },
        "id": "kX8PU4v-Ph3F",
        "outputId": "5da57c89-46cc-46ca-d28a-3c4d14475eda"
      },
      "execution_count": null,
      "outputs": [
        {
          "output_type": "stream",
          "name": "stdout",
          "text": [
            "item not found\n"
          ]
        }
      ]
    },
    {
      "cell_type": "code",
      "source": [
        "max_iterations = 100\n",
        "i = 0\n",
        "while i < max_iterations:\n",
        "  print(i)\n",
        "  i += 1"
      ],
      "metadata": {
        "colab": {
          "base_uri": "https://localhost:8080/"
        },
        "id": "6CbAigPiQdKn",
        "outputId": "fd15142a-aa0a-46da-99be-58089b4709da"
      },
      "execution_count": null,
      "outputs": [
        {
          "output_type": "stream",
          "name": "stdout",
          "text": [
            "0\n",
            "1\n",
            "2\n",
            "3\n",
            "4\n",
            "5\n",
            "6\n",
            "7\n",
            "8\n",
            "9\n",
            "10\n",
            "11\n",
            "12\n",
            "13\n",
            "14\n",
            "15\n",
            "16\n",
            "17\n",
            "18\n",
            "19\n",
            "20\n",
            "21\n",
            "22\n",
            "23\n",
            "24\n",
            "25\n",
            "26\n",
            "27\n",
            "28\n",
            "29\n",
            "30\n",
            "31\n",
            "32\n",
            "33\n",
            "34\n",
            "35\n",
            "36\n",
            "37\n",
            "38\n",
            "39\n",
            "40\n",
            "41\n",
            "42\n",
            "43\n",
            "44\n",
            "45\n",
            "46\n",
            "47\n",
            "48\n",
            "49\n",
            "50\n",
            "51\n",
            "52\n",
            "53\n",
            "54\n",
            "55\n",
            "56\n",
            "57\n",
            "58\n",
            "59\n",
            "60\n",
            "61\n",
            "62\n",
            "63\n",
            "64\n",
            "65\n",
            "66\n",
            "67\n",
            "68\n",
            "69\n",
            "70\n",
            "71\n",
            "72\n",
            "73\n",
            "74\n",
            "75\n",
            "76\n",
            "77\n",
            "78\n",
            "79\n",
            "80\n",
            "81\n",
            "82\n",
            "83\n",
            "84\n",
            "85\n",
            "86\n",
            "87\n",
            "88\n",
            "89\n",
            "90\n",
            "91\n",
            "92\n",
            "93\n",
            "94\n",
            "95\n",
            "96\n",
            "97\n",
            "98\n",
            "99\n"
          ]
        }
      ]
    },
    {
      "cell_type": "markdown",
      "source": [
        "# Part 14"
      ],
      "metadata": {
        "id": "k14jrnBXRDHC"
      }
    },
    {
      "cell_type": "code",
      "source": [
        "count = 0\n",
        "while count < 10 :\n",
        "  print(count)\n",
        "  count +=1"
      ],
      "metadata": {
        "colab": {
          "base_uri": "https://localhost:8080/"
        },
        "id": "LvFKvSjNRFnZ",
        "outputId": "e9cba0d5-ba1a-46fa-ebb3-4073cecd482d"
      },
      "execution_count": null,
      "outputs": [
        {
          "output_type": "stream",
          "name": "stdout",
          "text": [
            "0\n",
            "1\n",
            "2\n",
            "3\n",
            "4\n",
            "5\n",
            "6\n",
            "7\n",
            "8\n",
            "9\n",
            "0\n",
            "1\n",
            "2\n",
            "3\n",
            "4\n",
            "5\n",
            "6\n",
            "7\n",
            "8\n",
            "9\n",
            "0\n",
            "1\n",
            "2\n",
            "3\n",
            "4\n",
            "5\n",
            "6\n",
            "7\n",
            "8\n",
            "9\n"
          ]
        }
      ]
    },
    {
      "cell_type": "code",
      "source": [
        "x = 0\n",
        "y = 10\n",
        "while x < 10 and y > 3:\n",
        "  x +=1\n",
        "  y-=1\n",
        "print(x,y)"
      ],
      "metadata": {
        "colab": {
          "base_uri": "https://localhost:8080/"
        },
        "id": "psbjjx-tSjfx",
        "outputId": "f0b96793-03ac-465e-bbfd-b824e7ec67a0"
      },
      "execution_count": null,
      "outputs": [
        {
          "output_type": "stream",
          "name": "stdout",
          "text": [
            "7 3\n",
            "7 3\n"
          ]
        }
      ]
    },
    {
      "cell_type": "code",
      "source": [
        "def factorial(n):\n",
        "  result = 1\n",
        "  for i in range(2 , n+1 ):\n",
        "    result *= i\n",
        "    return result\n",
        "\n",
        "def factorial(n):\n",
        "  if n == 1:\n",
        "    return 1\n",
        "  return n * factorial(n-1)"
      ],
      "metadata": {
        "id": "tz31Jsd1TMig"
      },
      "execution_count": null,
      "outputs": []
    },
    {
      "cell_type": "markdown",
      "source": [
        "# Part 16"
      ],
      "metadata": {
        "id": "SUf7PqEraS6-"
      }
    },
    {
      "cell_type": "code",
      "source": [
        "#DONE"
      ],
      "metadata": {
        "id": "bdUvnEDraVXt"
      },
      "execution_count": null,
      "outputs": []
    }
  ]
}