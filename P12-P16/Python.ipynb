{
  "nbformat": 4,
  "nbformat_minor": 0,
  "metadata": {
    "colab": {
      "provenance": [],
      "authorship_tag": "ABX9TyON/SVcnI1kQ6aniDlnTyQq",
      "include_colab_link": true
    },
    "kernelspec": {
      "name": "python3",
      "display_name": "Python 3"
    },
    "language_info": {
      "name": "python"
    }
  },
  "cells": [
    {
      "cell_type": "markdown",
      "metadata": {
        "id": "view-in-github",
        "colab_type": "text"
      },
      "source": [
        "<a href=\"https://colab.research.google.com/github/Mahdi-Miri/python/blob/main/P12-P16/Python.ipynb\" target=\"_parent\"><img src=\"https://colab.research.google.com/assets/colab-badge.svg\" alt=\"Open In Colab\"/></a>"
      ]
    },
    {
      "cell_type": "markdown",
      "source": [
        "# Work On Concepts\n"
      ],
      "metadata": {
        "id": "ZlPBrOtkeofh"
      }
    },
    {
      "cell_type": "markdown",
      "source": [
        "# Part 6"
      ],
      "metadata": {
        "id": "0jZClRAle1YJ"
      }
    },
    {
      "cell_type": "code",
      "execution_count": 1,
      "metadata": {
        "colab": {
          "base_uri": "https://localhost:8080/"
        },
        "id": "P1epoH5hcUSH",
        "outputId": "a0fa9574-a53b-4648-e327-f661a71964b6"
      },
      "outputs": [
        {
          "output_type": "stream",
          "name": "stdout",
          "text": [
            "[1, 2, 3]\n"
          ]
        }
      ],
      "source": [
        "my_list = [1,2,3]\n",
        "print(my_list)"
      ]
    },
    {
      "cell_type": "code",
      "source": [
        "my_list = [10 , 23 , 42 , 32 ]\n",
        "print(my_list[3])"
      ],
      "metadata": {
        "colab": {
          "base_uri": "https://localhost:8080/"
        },
        "id": "irrw7BZLczqA",
        "outputId": "b4d7bea9-141b-4f0d-b41b-919d98d54476"
      },
      "execution_count": 2,
      "outputs": [
        {
          "output_type": "stream",
          "name": "stdout",
          "text": [
            "32\n"
          ]
        }
      ]
    },
    {
      "cell_type": "code",
      "source": [
        "del my_list[-1]\n",
        "print(my_list)\n",
        "last_element = my_list.pop()\n",
        "print(last_element)"
      ],
      "metadata": {
        "colab": {
          "base_uri": "https://localhost:8080/"
        },
        "id": "TWTDXBTNc-uo",
        "outputId": "6cf3786e-ed52-4b54-bf09-60ca46c60633"
      },
      "execution_count": 3,
      "outputs": [
        {
          "output_type": "stream",
          "name": "stdout",
          "text": [
            "[10, 23, 42]\n",
            "42\n"
          ]
        }
      ]
    },
    {
      "cell_type": "code",
      "source": [
        "my_list = [1 , 2, 3, 4,3 ,3,2,2,1,4]\n",
        "print(my_list)\n",
        "\n",
        "my_list.insert(2,85)\n",
        "print(my_list)"
      ],
      "metadata": {
        "colab": {
          "base_uri": "https://localhost:8080/"
        },
        "id": "cuUXelmtdS3Y",
        "outputId": "7ed921ac-22a2-40f1-9b37-22adbc38e48d"
      },
      "execution_count": 4,
      "outputs": [
        {
          "output_type": "stream",
          "name": "stdout",
          "text": [
            "[1, 2, 3, 4, 3, 3, 2, 2, 1, 4]\n",
            "[1, 2, 85, 3, 4, 3, 3, 2, 2, 1, 4]\n"
          ]
        }
      ]
    },
    {
      "cell_type": "code",
      "source": [
        "my_list.sort()\n",
        "print(my_list)\n",
        "my_list.reverse()\n",
        "print(my_list)"
      ],
      "metadata": {
        "colab": {
          "base_uri": "https://localhost:8080/"
        },
        "id": "uBu2Zpdddppa",
        "outputId": "00ee5639-d6f4-47cc-ef4d-478d7f7d90d5"
      },
      "execution_count": 5,
      "outputs": [
        {
          "output_type": "stream",
          "name": "stdout",
          "text": [
            "[1, 1, 2, 2, 2, 3, 3, 3, 4, 4, 85]\n",
            "[85, 4, 4, 3, 3, 3, 2, 2, 2, 1, 1]\n"
          ]
        }
      ]
    },
    {
      "cell_type": "code",
      "source": [
        "for i in my_list:\n",
        "  print(i)"
      ],
      "metadata": {
        "colab": {
          "base_uri": "https://localhost:8080/"
        },
        "id": "jEc8h_LVeMcA",
        "outputId": "ff6378e4-f688-4e3e-8373-77bb7205f7ef"
      },
      "execution_count": 6,
      "outputs": [
        {
          "output_type": "stream",
          "name": "stdout",
          "text": [
            "85\n",
            "4\n",
            "4\n",
            "3\n",
            "3\n",
            "3\n",
            "2\n",
            "2\n",
            "2\n",
            "1\n",
            "1\n"
          ]
        }
      ]
    },
    {
      "cell_type": "code",
      "source": [
        "my_tuple = tuple(my_list)\n",
        "print(my_tuple)\n",
        "my_set = set(my_tuple)\n",
        "print(my_set)"
      ],
      "metadata": {
        "colab": {
          "base_uri": "https://localhost:8080/"
        },
        "id": "YbejGO6CeR2o",
        "outputId": "1e43ebe5-0d7d-4fa2-8220-449fdc1fd25c"
      },
      "execution_count": 7,
      "outputs": [
        {
          "output_type": "stream",
          "name": "stdout",
          "text": [
            "(85, 4, 4, 3, 3, 3, 2, 2, 2, 1, 1)\n",
            "{1, 2, 3, 4, 85}\n"
          ]
        }
      ]
    },
    {
      "cell_type": "markdown",
      "source": [
        "# Part 7"
      ],
      "metadata": {
        "id": "2rkqgm6Je-Vi"
      }
    },
    {
      "cell_type": "code",
      "source": [
        "my_tuple = (1 ,2, 3)"
      ],
      "metadata": {
        "id": "6JQtOQsnfBZx"
      },
      "execution_count": 8,
      "outputs": []
    },
    {
      "cell_type": "code",
      "source": [
        "print(my_tuple[2])"
      ],
      "metadata": {
        "id": "c629VBeufmlA",
        "outputId": "9100775a-1fb4-473f-b5c6-53e1e90a3537",
        "colab": {
          "base_uri": "https://localhost:8080/"
        }
      },
      "execution_count": 9,
      "outputs": [
        {
          "output_type": "stream",
          "name": "stdout",
          "text": [
            "3\n"
          ]
        }
      ]
    },
    {
      "cell_type": "code",
      "source": [
        "for i in my_tuple:\n",
        "  print(i)"
      ],
      "metadata": {
        "id": "E1HZxBy4fo2o",
        "outputId": "faabca1d-8179-4381-e875-0572e044415c",
        "colab": {
          "base_uri": "https://localhost:8080/"
        }
      },
      "execution_count": 10,
      "outputs": [
        {
          "output_type": "stream",
          "name": "stdout",
          "text": [
            "1\n",
            "2\n",
            "3\n"
          ]
        }
      ]
    },
    {
      "cell_type": "code",
      "source": [
        "my_list = list(my_tuple)\n",
        "print(my_list)"
      ],
      "metadata": {
        "id": "3Yx95mmjfuD9",
        "outputId": "852ff881-9793-4497-e600-3de653f09f73",
        "colab": {
          "base_uri": "https://localhost:8080/"
        }
      },
      "execution_count": 11,
      "outputs": [
        {
          "output_type": "stream",
          "name": "stdout",
          "text": [
            "[1, 2, 3]\n"
          ]
        }
      ]
    },
    {
      "cell_type": "markdown",
      "source": [
        "# Part 12"
      ],
      "metadata": {
        "id": "JdK3FEZnBo4Y"
      }
    },
    {
      "cell_type": "code",
      "source": [
        "tuples = [(1,2) , (3,4) , (5,6)]\n",
        "\n",
        "for a,b in tuples:\n",
        "  print(a,b)\n",
        "\n",
        "dicts = {'a' : 1 , 'b': 2}\n",
        "for key, value in dicts.items():\n",
        "  print(key, value)\n"
      ],
      "metadata": {
        "id": "HMzDppvLBrke",
        "outputId": "f3731f10-9ad5-42cf-97ab-0b29fd751757",
        "colab": {
          "base_uri": "https://localhost:8080/"
        }
      },
      "execution_count": 12,
      "outputs": [
        {
          "output_type": "stream",
          "name": "stdout",
          "text": [
            "1 2\n",
            "3 4\n",
            "5 6\n",
            "a 1\n",
            "b 2\n"
          ]
        }
      ]
    },
    {
      "cell_type": "code",
      "source": [
        "for i in range(0,10,2):\n",
        "  print(i)"
      ],
      "metadata": {
        "id": "MHBPVl2VCO_u",
        "outputId": "87cd6a80-51b7-4ebc-a115-493be761b557",
        "colab": {
          "base_uri": "https://localhost:8080/"
        }
      },
      "execution_count": 13,
      "outputs": [
        {
          "output_type": "stream",
          "name": "stdout",
          "text": [
            "0\n",
            "2\n",
            "4\n",
            "6\n",
            "8\n"
          ]
        }
      ]
    },
    {
      "cell_type": "code",
      "source": [
        "for i in range(10,0,-1):\n",
        "  print(i)"
      ],
      "metadata": {
        "id": "hY_aWEt1CmXH",
        "outputId": "665fb84c-3571-4dee-bbea-180befcac457",
        "colab": {
          "base_uri": "https://localhost:8080/"
        }
      },
      "execution_count": 14,
      "outputs": [
        {
          "output_type": "stream",
          "name": "stdout",
          "text": [
            "10\n",
            "9\n",
            "8\n",
            "7\n",
            "6\n",
            "5\n",
            "4\n",
            "3\n",
            "2\n",
            "1\n"
          ]
        }
      ]
    },
    {
      "cell_type": "code",
      "source": [
        "#####??????????????????????????????????????################\n",
        "values = [1 , 2 , 3 , 4, 5 ,5 ,6]\n",
        "\n",
        "for n in values:\n",
        "  values.remove(n)\n",
        "\n",
        "print(values)"
      ],
      "metadata": {
        "id": "Bp54st1bCrdy",
        "outputId": "8a92c393-92b7-4335-ee63-e6234ae9dc60",
        "colab": {
          "base_uri": "https://localhost:8080/"
        }
      },
      "execution_count": 18,
      "outputs": [
        {
          "output_type": "stream",
          "name": "stdout",
          "text": [
            "[2, 4, 5]\n"
          ]
        }
      ]
    },
    {
      "cell_type": "code",
      "source": [
        "for i in values[:]:\n",
        "  values.remove(i)\n",
        "print(values)"
      ],
      "metadata": {
        "id": "bYvaBDbYEBrk",
        "outputId": "cd7248ea-5ab2-4e21-b41e-2d60140e7d85",
        "colab": {
          "base_uri": "https://localhost:8080/"
        }
      },
      "execution_count": 19,
      "outputs": [
        {
          "output_type": "stream",
          "name": "stdout",
          "text": [
            "[]\n"
          ]
        }
      ]
    },
    {
      "cell_type": "code",
      "source": [
        "values = [1,2,3,4]\n",
        "\n",
        "for i in reversed(values):\n",
        "  values.remove(i)\n",
        "\n",
        "print(values)"
      ],
      "metadata": {
        "id": "IlUF6sCqELmX",
        "outputId": "b0d86f0f-d01c-4ede-f9b8-65d9387fc5b6",
        "colab": {
          "base_uri": "https://localhost:8080/"
        }
      },
      "execution_count": 20,
      "outputs": [
        {
          "output_type": "stream",
          "name": "stdout",
          "text": [
            "[]\n"
          ]
        }
      ]
    },
    {
      "cell_type": "code",
      "source": [
        "numbers = [1,2,3,4,5,6]\n",
        "\n",
        "even_numbers = []\n",
        "\n",
        "for n in numbers:\n",
        "  if n % 2 == 0 :\n",
        "    even_numbers.append(n)\n",
        "print(even_numbers)"
      ],
      "metadata": {
        "id": "3x-x41JDETmi",
        "outputId": "695971f2-da77-4ffb-cac8-d8024fc87e67",
        "colab": {
          "base_uri": "https://localhost:8080/"
        }
      },
      "execution_count": 22,
      "outputs": [
        {
          "output_type": "stream",
          "name": "stdout",
          "text": [
            "[2, 4, 6]\n"
          ]
        }
      ]
    },
    {
      "cell_type": "code",
      "source": [
        "for i in range(10):\n",
        "  if i == 5:\n",
        "    break\n",
        "  print(i)"
      ],
      "metadata": {
        "id": "jwQqmvtKGpKq",
        "outputId": "57118aa0-69d9-44dd-d8f5-8e598779cf82",
        "colab": {
          "base_uri": "https://localhost:8080/"
        }
      },
      "execution_count": 23,
      "outputs": [
        {
          "output_type": "stream",
          "name": "stdout",
          "text": [
            "0\n",
            "1\n",
            "2\n",
            "3\n",
            "4\n"
          ]
        }
      ]
    },
    {
      "cell_type": "code",
      "source": [
        "for i in range(10):\n",
        "  if i % 2 != 0 :\n",
        "    continue\n",
        "  print(i)"
      ],
      "metadata": {
        "id": "UJTGh1RHGxRr",
        "outputId": "a50385c3-f19b-4df7-8829-cf08d3000183",
        "colab": {
          "base_uri": "https://localhost:8080/"
        }
      },
      "execution_count": 24,
      "outputs": [
        {
          "output_type": "stream",
          "name": "stdout",
          "text": [
            "0\n",
            "2\n",
            "4\n",
            "6\n",
            "8\n"
          ]
        }
      ]
    },
    {
      "cell_type": "code",
      "source": [
        "dicts = {'a': 1 , 'b' :2 }\n",
        "\n",
        "for key in dicts:\n",
        "  print(key)\n",
        "\n",
        "for key , values in dicts.items():\n",
        "  print(key , values)"
      ],
      "metadata": {
        "id": "iPEptJLTHBdD",
        "outputId": "67412303-e8e6-4837-898b-4daf0083c491",
        "colab": {
          "base_uri": "https://localhost:8080/"
        }
      },
      "execution_count": 25,
      "outputs": [
        {
          "output_type": "stream",
          "name": "stdout",
          "text": [
            "a\n",
            "b\n",
            "a 1\n",
            "b 2\n"
          ]
        }
      ]
    }
  ]
}