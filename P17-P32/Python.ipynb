{
  "nbformat": 4,
  "nbformat_minor": 0,
  "metadata": {
    "colab": {
      "provenance": [],
      "authorship_tag": "ABX9TyNB8/K1dHZLBOdqkK0kXtJ+",
      "include_colab_link": true
    },
    "kernelspec": {
      "name": "python3",
      "display_name": "Python 3"
    },
    "language_info": {
      "name": "python"
    }
  },
  "cells": [
    {
      "cell_type": "markdown",
      "metadata": {
        "id": "view-in-github",
        "colab_type": "text"
      },
      "source": [
        "<a href=\"https://colab.research.google.com/github/Mahdi-Miri/python/blob/main/P17-P32/Python.ipynb\" target=\"_parent\"><img src=\"https://colab.research.google.com/assets/colab-badge.svg\" alt=\"Open In Colab\"/></a>"
      ]
    },
    {
      "cell_type": "markdown",
      "source": [
        "# Part 17 to 32"
      ],
      "metadata": {
        "id": "Ac134VKMuE-B"
      }
    },
    {
      "cell_type": "code",
      "execution_count": 3,
      "metadata": {
        "colab": {
          "base_uri": "https://localhost:8080/"
        },
        "id": "yl6d9Hklthz1",
        "outputId": "4d395729-b63b-4d05-e569-2f58bcbcf95f"
      },
      "outputs": [
        {
          "output_type": "stream",
          "name": "stdout",
          "text": [
            "10\n",
            "9\n",
            "8\n",
            "7\n",
            "6\n",
            "5\n",
            "4\n",
            "3\n",
            "2\n",
            "1\n",
            "Blastoff!\n"
          ]
        }
      ],
      "source": [
        "def countdown(n):\n",
        "  if n ==0:\n",
        "    print(\"Blastoff!\")\n",
        "  else:\n",
        "    print(n)\n",
        "    countdown(n -1)\n",
        "\n",
        "countdown(10)"
      ]
    },
    {
      "cell_type": "code",
      "source": [
        "def factorial(n):\n",
        "  if n == 0:\n",
        "    return 1\n",
        "  else:\n",
        "    return n * factorial(n -1 )\n",
        "\n",
        "result = factorial(5)\n",
        "print(result)"
      ],
      "metadata": {
        "colab": {
          "base_uri": "https://localhost:8080/"
        },
        "id": "tLHNNTRLwYvG",
        "outputId": "1cbecec0-55e0-4c69-d953-7bb87329538b"
      },
      "execution_count": 4,
      "outputs": [
        {
          "output_type": "stream",
          "name": "stdout",
          "text": [
            "120\n"
          ]
        }
      ]
    },
    {
      "cell_type": "code",
      "source": [
        "def uppercase(func):\n",
        "  def wrapper():\n",
        "    result = func().upper()\n",
        "    return result\n",
        "  return wrapper\n",
        "\n",
        "@uppercase\n",
        "def greet():\n",
        "  return \"hello\"\n",
        "\n",
        "print(greet())"
      ],
      "metadata": {
        "colab": {
          "base_uri": "https://localhost:8080/"
        },
        "id": "WjLl7i-axErP",
        "outputId": "adffe6ee-92e8-40c8-a025-63d3ca5dccc4"
      },
      "execution_count": 5,
      "outputs": [
        {
          "output_type": "stream",
          "name": "stdout",
          "text": [
            "HELLO\n"
          ]
        }
      ]
    },
    {
      "cell_type": "code",
      "source": [
        "def multi(n):\n",
        "  def multip(x):\n",
        "    return x * n\n",
        "  return multip\n",
        "\n",
        "double = multi(2)\n",
        "triple = multi(3)\n",
        "\n",
        "print(double(5))\n",
        "print(triple(5))"
      ],
      "metadata": {
        "colab": {
          "base_uri": "https://localhost:8080/"
        },
        "id": "rpgW7N0Lx8il",
        "outputId": "300b640c-fde3-4621-d890-30d4a07d76ad"
      },
      "execution_count": 6,
      "outputs": [
        {
          "output_type": "stream",
          "name": "stdout",
          "text": [
            "10\n",
            "15\n"
          ]
        }
      ]
    },
    {
      "cell_type": "code",
      "source": [
        "double = lambda x:x *2\n",
        "result = double(5)\n",
        "print(result)"
      ],
      "metadata": {
        "id": "3DnIzv8EzTQQ",
        "outputId": "1ae2e1c6-2f73-4a26-f8fd-5ce152412653",
        "colab": {
          "base_uri": "https://localhost:8080/"
        }
      },
      "execution_count": 7,
      "outputs": [
        {
          "output_type": "stream",
          "name": "stdout",
          "text": [
            "10\n"
          ]
        }
      ]
    },
    {
      "cell_type": "code",
      "source": [
        "nubmers = [1,2,3,4,5,64,5,5,3]\n",
        "squared = list(map(lambda x: x** 2, nubmers))\n",
        "print(squared)"
      ],
      "metadata": {
        "id": "JxTH93Nczqgy"
      },
      "execution_count": null,
      "outputs": []
    },
    {
      "cell_type": "code",
      "source": [
        "import functools\n",
        "\n",
        "@functools.lru_cache()\n",
        "def fibo(n):\n",
        "  if n<= 1 :\n",
        "    return n\n",
        "  return fibo(n - 1) + fibo(n -2 )\n",
        "\n",
        "print(fibo(10))\n",
        "print(fibo(15))"
      ],
      "metadata": {
        "id": "UufOKPKt0oB1",
        "outputId": "a0756b82-9119-49dc-a4d8-0dea02cadbb0",
        "colab": {
          "base_uri": "https://localhost:8080/"
        }
      },
      "execution_count": 11,
      "outputs": [
        {
          "output_type": "stream",
          "name": "stdout",
          "text": [
            "55\n",
            "610\n"
          ]
        }
      ]
    },
    {
      "cell_type": "code",
      "source": [
        "def memoize(func):\n",
        "  cache = {}\n",
        "\n",
        "  def wrapper(*args):\n",
        "    if args not in cache:\n",
        "      cache[args] = func(*args)\n",
        "    return cache[args]\n",
        "\n",
        "  return wrapper\n",
        "\n",
        "@memoize\n",
        "def factorial(n):\n",
        "  if n <= 1:\n",
        "    return 1\n",
        "  return n * factorial(n -1)\n",
        "\n",
        "\n",
        "print(factorial(5))\n",
        "print(factorial(23))"
      ],
      "metadata": {
        "id": "SOLYYdrn2T0U",
        "outputId": "5d616e06-79f1-4aee-8ba2-69f630289e55",
        "colab": {
          "base_uri": "https://localhost:8080/"
        }
      },
      "execution_count": 15,
      "outputs": [
        {
          "output_type": "stream",
          "name": "stdout",
          "text": [
            "120\n",
            "25852016738884976640000\n"
          ]
        }
      ]
    }
  ]
}