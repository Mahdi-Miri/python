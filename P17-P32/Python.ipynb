{
  "nbformat": 4,
  "nbformat_minor": 0,
  "metadata": {
    "colab": {
      "provenance": [],
      "authorship_tag": "ABX9TyOgWU6+dzfaoBqQrcA44hlH",
      "include_colab_link": true
    },
    "kernelspec": {
      "name": "python3",
      "display_name": "Python 3"
    },
    "language_info": {
      "name": "python"
    }
  },
  "cells": [
    {
      "cell_type": "markdown",
      "metadata": {
        "id": "view-in-github",
        "colab_type": "text"
      },
      "source": [
        "<a href=\"https://colab.research.google.com/github/Mahdi-Miri/python/blob/main/P17-P32/Python.ipynb\" target=\"_parent\"><img src=\"https://colab.research.google.com/assets/colab-badge.svg\" alt=\"Open In Colab\"/></a>"
      ]
    },
    {
      "cell_type": "markdown",
      "source": [
        "# Part 17 to 32"
      ],
      "metadata": {
        "id": "Ac134VKMuE-B"
      }
    },
    {
      "cell_type": "code",
      "execution_count": 54,
      "metadata": {
        "colab": {
          "base_uri": "https://localhost:8080/"
        },
        "id": "yl6d9Hklthz1",
        "outputId": "87a291dc-7761-4eb5-cb76-3fdb04a39247"
      },
      "outputs": [
        {
          "output_type": "stream",
          "name": "stdout",
          "text": [
            "10\n",
            "9\n",
            "8\n",
            "7\n",
            "6\n",
            "5\n",
            "4\n",
            "3\n",
            "2\n",
            "1\n",
            "Blastoff!\n"
          ]
        }
      ],
      "source": [
        "def countdown(n):\n",
        "  if n ==0:\n",
        "    print(\"Blastoff!\")\n",
        "  else:\n",
        "    print(n)\n",
        "    countdown(n -1)\n",
        "\n",
        "countdown(10)"
      ]
    },
    {
      "cell_type": "code",
      "source": [
        "def factorial(n):\n",
        "  if n == 0:\n",
        "    return 1\n",
        "  else:\n",
        "    return n * factorial(n -1 )\n",
        "\n",
        "result = factorial(5)\n",
        "print(result)"
      ],
      "metadata": {
        "colab": {
          "base_uri": "https://localhost:8080/"
        },
        "id": "tLHNNTRLwYvG",
        "outputId": "0d696b02-54b2-4639-dbeb-c2b25c1f4511"
      },
      "execution_count": 55,
      "outputs": [
        {
          "output_type": "stream",
          "name": "stdout",
          "text": [
            "120\n"
          ]
        }
      ]
    },
    {
      "cell_type": "code",
      "source": [
        "def uppercase(func):\n",
        "  def wrapper():\n",
        "    result = func().upper()\n",
        "    return result\n",
        "  return wrapper\n",
        "\n",
        "@uppercase\n",
        "def greet():\n",
        "  return \"hello\"\n",
        "\n",
        "print(greet())"
      ],
      "metadata": {
        "colab": {
          "base_uri": "https://localhost:8080/"
        },
        "id": "WjLl7i-axErP",
        "outputId": "19bd8a9e-3dd2-4662-87b9-9a63eea1e0fc"
      },
      "execution_count": 56,
      "outputs": [
        {
          "output_type": "stream",
          "name": "stdout",
          "text": [
            "HELLO\n"
          ]
        }
      ]
    },
    {
      "cell_type": "code",
      "source": [
        "def multi(n):\n",
        "  def multip(x):\n",
        "    return x * n\n",
        "  return multip\n",
        "\n",
        "double = multi(2)\n",
        "triple = multi(3)\n",
        "\n",
        "print(double(5))\n",
        "print(triple(5))"
      ],
      "metadata": {
        "colab": {
          "base_uri": "https://localhost:8080/"
        },
        "id": "rpgW7N0Lx8il",
        "outputId": "6e12a194-5a31-4608-cabb-4a9f68ea82e1"
      },
      "execution_count": 57,
      "outputs": [
        {
          "output_type": "stream",
          "name": "stdout",
          "text": [
            "10\n",
            "15\n"
          ]
        }
      ]
    },
    {
      "cell_type": "code",
      "source": [
        "double = lambda x:x *2\n",
        "result = double(5)\n",
        "print(result)"
      ],
      "metadata": {
        "colab": {
          "base_uri": "https://localhost:8080/"
        },
        "id": "3DnIzv8EzTQQ",
        "outputId": "9104bdeb-9d29-40ca-8651-11ced1952987"
      },
      "execution_count": 58,
      "outputs": [
        {
          "output_type": "stream",
          "name": "stdout",
          "text": [
            "10\n"
          ]
        }
      ]
    },
    {
      "cell_type": "code",
      "source": [
        "nubmers = [1,2,3,4,5,64,5,5,3]\n",
        "squared = list(map(lambda x: x** 2, nubmers))\n",
        "print(squared)"
      ],
      "metadata": {
        "colab": {
          "base_uri": "https://localhost:8080/"
        },
        "id": "JxTH93Nczqgy",
        "outputId": "7975218d-af72-42d1-e78a-7aea44bafd67"
      },
      "execution_count": 59,
      "outputs": [
        {
          "output_type": "stream",
          "name": "stdout",
          "text": [
            "[1, 4, 9, 16, 25, 4096, 25, 25, 9]\n"
          ]
        }
      ]
    },
    {
      "cell_type": "code",
      "source": [
        "import functools\n",
        "\n",
        "@functools.lru_cache()\n",
        "def fibo(n):\n",
        "  if n<= 1 :\n",
        "    return n\n",
        "  return fibo(n - 1) + fibo(n -2 )\n",
        "\n",
        "print(fibo(10))\n",
        "print(fibo(15))"
      ],
      "metadata": {
        "colab": {
          "base_uri": "https://localhost:8080/"
        },
        "id": "UufOKPKt0oB1",
        "outputId": "265b0148-04a8-4183-962d-689d44659009"
      },
      "execution_count": 60,
      "outputs": [
        {
          "output_type": "stream",
          "name": "stdout",
          "text": [
            "55\n",
            "610\n"
          ]
        }
      ]
    },
    {
      "cell_type": "code",
      "source": [
        "def memoize(func):\n",
        "  cache = {}\n",
        "\n",
        "  def wrapper(*args):\n",
        "    if args not in cache:\n",
        "      cache[args] = func(*args)\n",
        "    return cache[args]\n",
        "\n",
        "  return wrapper\n",
        "\n",
        "@memoize\n",
        "def factorial(n):\n",
        "  if n <= 1:\n",
        "    return 1\n",
        "  return n * factorial(n -1)\n",
        "\n",
        "\n",
        "print(factorial(5))\n",
        "print(factorial(23))"
      ],
      "metadata": {
        "colab": {
          "base_uri": "https://localhost:8080/"
        },
        "id": "SOLYYdrn2T0U",
        "outputId": "432e5223-3c63-493a-d516-5744f056bfa5"
      },
      "execution_count": 61,
      "outputs": [
        {
          "output_type": "stream",
          "name": "stdout",
          "text": [
            "120\n",
            "25852016738884976640000\n"
          ]
        }
      ]
    },
    {
      "cell_type": "code",
      "source": [
        "class UserData():\n",
        "  def show(self):\n",
        "    print(\"hi\")\n",
        "\n",
        "def check():\n",
        "  x = UserData()\n",
        "  x.show()\n",
        "\n",
        "check()"
      ],
      "metadata": {
        "id": "xIThXaV5-lHS",
        "outputId": "9051cd3f-12e8-4d32-f319-499176de59bd",
        "colab": {
          "base_uri": "https://localhost:8080/"
        }
      },
      "execution_count": 62,
      "outputs": [
        {
          "output_type": "stream",
          "name": "stdout",
          "text": [
            "hi\n"
          ]
        }
      ]
    },
    {
      "cell_type": "code",
      "source": [
        "class UserData():\n",
        "  age = 0\n",
        "  name = None\n",
        "  def __init__(self,name,age):\n",
        "    self.name = name\n",
        "    self.age = age\n",
        "  def user(self):\n",
        "    print(\"User Name Is : {} And Has {} Years Old\".format(self.name , self.age))"
      ],
      "metadata": {
        "id": "ZbxgLw35AFfK"
      },
      "execution_count": 63,
      "outputs": []
    },
    {
      "cell_type": "code",
      "source": [
        "user_1 = UserData(\"Sara\", 40)\n",
        "user_2 = UserData(\"Davis\", 41)\n",
        "user_3 = UserData(\"Mahdi\", 20)\n",
        "user_4 = UserData(\"Nahdl\", 58)\n",
        "user_5 = UserData(\"Zahra\", 14)"
      ],
      "metadata": {
        "id": "yvkNlIhFA90k"
      },
      "execution_count": 64,
      "outputs": []
    },
    {
      "cell_type": "code",
      "source": [
        "type(user_1)"
      ],
      "metadata": {
        "id": "kep_2m_DBWmd",
        "outputId": "7b461ca4-a89a-4ef7-c0d5-73e91d0f9904",
        "colab": {
          "base_uri": "https://localhost:8080/",
          "height": 104
        }
      },
      "execution_count": 65,
      "outputs": [
        {
          "output_type": "execute_result",
          "data": {
            "text/plain": [
              "__main__.UserData"
            ],
            "text/html": [
              "<div style=\"max-width:800px; border: 1px solid var(--colab-border-color);\"><style>\n",
              "      pre.function-repr-contents {\n",
              "        overflow-x: auto;\n",
              "        padding: 8px 12px;\n",
              "        max-height: 500px;\n",
              "      }\n",
              "\n",
              "      pre.function-repr-contents.function-repr-contents-collapsed {\n",
              "        cursor: pointer;\n",
              "        max-height: 100px;\n",
              "      }\n",
              "    </style>\n",
              "    <pre style=\"white-space: initial; background:\n",
              "         var(--colab-secondary-surface-color); padding: 8px 12px;\n",
              "         border-bottom: 1px solid var(--colab-border-color);\"><b>UserData</b><br/>def __init__(name, age)</pre><pre class=\"function-repr-contents function-repr-contents-collapsed\" style=\"\"><a class=\"filepath\" style=\"display:none\" href=\"#\"></a>&lt;no docstring&gt;</pre></div>"
            ]
          },
          "metadata": {},
          "execution_count": 65
        }
      ]
    },
    {
      "cell_type": "code",
      "source": [
        "user_2.age"
      ],
      "metadata": {
        "id": "kVt3PFFNBdAr",
        "outputId": "dedd0491-efe5-4923-bb08-2795301c6bff",
        "colab": {
          "base_uri": "https://localhost:8080/"
        }
      },
      "execution_count": 66,
      "outputs": [
        {
          "output_type": "execute_result",
          "data": {
            "text/plain": [
              "41"
            ]
          },
          "metadata": {},
          "execution_count": 66
        }
      ]
    },
    {
      "cell_type": "code",
      "source": [
        "user_3.name"
      ],
      "metadata": {
        "id": "ELY4oKIJBjbl",
        "outputId": "5e98557f-55f3-4b25-f262-d6be69468d9f",
        "colab": {
          "base_uri": "https://localhost:8080/",
          "height": 35
        }
      },
      "execution_count": 67,
      "outputs": [
        {
          "output_type": "execute_result",
          "data": {
            "text/plain": [
              "'Mahdi'"
            ],
            "application/vnd.google.colaboratory.intrinsic+json": {
              "type": "string"
            }
          },
          "metadata": {},
          "execution_count": 67
        }
      ]
    },
    {
      "cell_type": "code",
      "source": [
        "def avg_age():\n",
        "  return(user_1.age + user_2.age+user_3.age+user_4.age+user_5.age)/5"
      ],
      "metadata": {
        "id": "SGHGIGLkBp15"
      },
      "execution_count": 68,
      "outputs": []
    },
    {
      "cell_type": "code",
      "source": [
        "avg_age()"
      ],
      "metadata": {
        "id": "zczjDQLqB9wk",
        "outputId": "cc54a066-781f-4cf1-c13a-2627d8c105e1",
        "colab": {
          "base_uri": "https://localhost:8080/"
        }
      },
      "execution_count": 69,
      "outputs": [
        {
          "output_type": "execute_result",
          "data": {
            "text/plain": [
              "34.6"
            ]
          },
          "metadata": {},
          "execution_count": 69
        }
      ]
    },
    {
      "cell_type": "code",
      "source": [
        "user_1.user()"
      ],
      "metadata": {
        "id": "AMkdAIpoCEoF",
        "outputId": "4fde7925-422f-4857-ed09-8dca37d82bab",
        "colab": {
          "base_uri": "https://localhost:8080/"
        }
      },
      "execution_count": 70,
      "outputs": [
        {
          "output_type": "stream",
          "name": "stdout",
          "text": [
            "User Name Is : Sara And Has 40 Years Old\n"
          ]
        }
      ]
    },
    {
      "cell_type": "code",
      "source": [
        "class Rectangle():\n",
        "  def __init__(self,lenght,width):\n",
        "    self.lenght = lenght\n",
        "    self.width = width\n",
        "\n",
        "  def rect_area(self):\n",
        "    return(self.lenght * self.width)\n",
        "\n",
        "rect_1 =Rectangle(34,56)\n",
        "rect_2 = Rectangle(140,60)\n",
        "rect_3 = Rectangle(120,70)\n",
        "rect_4 = Rectangle(100,80)\n"
      ],
      "metadata": {
        "id": "E4qjKcgLCO-w"
      },
      "execution_count": 71,
      "outputs": []
    },
    {
      "cell_type": "code",
      "source": [
        "rect_1.lenght"
      ],
      "metadata": {
        "id": "03QxsqCLDUv5",
        "outputId": "b3271b6b-639a-4898-c9db-40b8c484bd09",
        "colab": {
          "base_uri": "https://localhost:8080/"
        }
      },
      "execution_count": 72,
      "outputs": [
        {
          "output_type": "execute_result",
          "data": {
            "text/plain": [
              "34"
            ]
          },
          "metadata": {},
          "execution_count": 72
        }
      ]
    },
    {
      "cell_type": "code",
      "source": [
        "rect_2.width"
      ],
      "metadata": {
        "id": "fVi8eK53DZXD",
        "outputId": "be6f4643-61f4-4b66-abf8-847e52a3d684",
        "colab": {
          "base_uri": "https://localhost:8080/"
        }
      },
      "execution_count": 73,
      "outputs": [
        {
          "output_type": "execute_result",
          "data": {
            "text/plain": [
              "60"
            ]
          },
          "metadata": {},
          "execution_count": 73
        }
      ]
    },
    {
      "cell_type": "code",
      "source": [
        "rect_3.rect_area()"
      ],
      "metadata": {
        "id": "lCGkjCpyDfhO",
        "outputId": "91c695c7-e343-4a97-fd5f-76372f8eb95f",
        "colab": {
          "base_uri": "https://localhost:8080/"
        }
      },
      "execution_count": 74,
      "outputs": [
        {
          "output_type": "execute_result",
          "data": {
            "text/plain": [
              "8400"
            ]
          },
          "metadata": {},
          "execution_count": 74
        }
      ]
    },
    {
      "cell_type": "code",
      "source": [
        "type(rect_4)"
      ],
      "metadata": {
        "id": "qM61NoA-DnPf",
        "outputId": "7d21c2e2-f793-4f22-deba-0b0a8570985f",
        "colab": {
          "base_uri": "https://localhost:8080/",
          "height": 104
        }
      },
      "execution_count": 75,
      "outputs": [
        {
          "output_type": "execute_result",
          "data": {
            "text/plain": [
              "__main__.Rectangle"
            ],
            "text/html": [
              "<div style=\"max-width:800px; border: 1px solid var(--colab-border-color);\"><style>\n",
              "      pre.function-repr-contents {\n",
              "        overflow-x: auto;\n",
              "        padding: 8px 12px;\n",
              "        max-height: 500px;\n",
              "      }\n",
              "\n",
              "      pre.function-repr-contents.function-repr-contents-collapsed {\n",
              "        cursor: pointer;\n",
              "        max-height: 100px;\n",
              "      }\n",
              "    </style>\n",
              "    <pre style=\"white-space: initial; background:\n",
              "         var(--colab-secondary-surface-color); padding: 8px 12px;\n",
              "         border-bottom: 1px solid var(--colab-border-color);\"><b>Rectangle</b><br/>def __init__(lenght, width)</pre><pre class=\"function-repr-contents function-repr-contents-collapsed\" style=\"\"><a class=\"filepath\" style=\"display:none\" href=\"#\"></a>&lt;no docstring&gt;</pre></div>"
            ]
          },
          "metadata": {},
          "execution_count": 75
        }
      ]
    },
    {
      "cell_type": "code",
      "source": [
        "print(rect_1.rect_area()+rect_2.rect_area()+rect_3.rect_area()+rect_4.rect_area()//4)"
      ],
      "metadata": {
        "id": "TD687gZLDqK4",
        "outputId": "abcf0a26-4266-4b98-a623-ea76be140905",
        "colab": {
          "base_uri": "https://localhost:8080/"
        }
      },
      "execution_count": 78,
      "outputs": [
        {
          "output_type": "stream",
          "name": "stdout",
          "text": [
            "20704\n"
          ]
        }
      ]
    }
  ]
}