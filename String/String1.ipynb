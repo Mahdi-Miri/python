{
  "nbformat": 4,
  "nbformat_minor": 0,
  "metadata": {
    "colab": {
      "provenance": [],
      "authorship_tag": "ABX9TyNop5arjH0gweu91QEersFI",
      "include_colab_link": true
    },
    "kernelspec": {
      "name": "python3",
      "display_name": "Python 3"
    },
    "language_info": {
      "name": "python"
    }
  },
  "cells": [
    {
      "cell_type": "markdown",
      "metadata": {
        "id": "view-in-github",
        "colab_type": "text"
      },
      "source": [
        "<a href=\"https://colab.research.google.com/github/Mahdi-Miri/python/blob/main/String/String1.ipynb\" target=\"_parent\"><img src=\"https://colab.research.google.com/assets/colab-badge.svg\" alt=\"Open In Colab\"/></a>"
      ]
    },
    {
      "cell_type": "markdown",
      "source": [
        "# Work With Strings"
      ],
      "metadata": {
        "id": "n20RAI582Q2q"
      }
    },
    {
      "cell_type": "code",
      "execution_count": null,
      "metadata": {
        "colab": {
          "base_uri": "https://localhost:8080/"
        },
        "id": "yuyF5Gmm2PGS",
        "outputId": "adc0c1b7-09ed-4c41-e13c-523130bc0917"
      },
      "outputs": [
        {
          "output_type": "stream",
          "name": "stdout",
          "text": [
            "My Name is Mahdi Miri And My Age Is : 24\n"
          ]
        }
      ],
      "source": [
        "my_string = \"My Name is Mahdi Miri\"\n",
        "age = '24'\n",
        "joined_strings = my_string + ' And My Age Is : ' + age\n",
        "print (joined_strings)"
      ]
    },
    {
      "cell_type": "code",
      "source": [
        "string_lenghts = len(my_string)\n",
        "print(string_lenghts)"
      ],
      "metadata": {
        "colab": {
          "base_uri": "https://localhost:8080/"
        },
        "id": "oCGSiSga4B0Z",
        "outputId": "f68fbe7c-81e0-44ad-b313-56cd9cdbbc21"
      },
      "execution_count": null,
      "outputs": [
        {
          "output_type": "stream",
          "name": "stdout",
          "text": [
            "21\n"
          ]
        }
      ]
    },
    {
      "cell_type": "code",
      "source": [
        "print(my_string[0])\n",
        "print(my_string[2])\n",
        "print(my_string[-1])\n",
        "print(my_string[4:8])\n",
        "print(my_string[-1:4])"
      ],
      "metadata": {
        "id": "RMrxyN0_4RSJ",
        "outputId": "8876af8e-93c9-468e-fdb9-86bc7d4e8c4d",
        "colab": {
          "base_uri": "https://localhost:8080/"
        }
      },
      "execution_count": null,
      "outputs": [
        {
          "output_type": "stream",
          "name": "stdout",
          "text": [
            "M\n",
            " \n",
            "i\n",
            "ame \n",
            "\n"
          ]
        }
      ]
    },
    {
      "cell_type": "code",
      "source": [
        "text = 'my Name is Mahdi'\n",
        "changed_name = text.replace('Mahdi', 'John')\n",
        "print(changed_name)"
      ],
      "metadata": {
        "id": "7Ab9kT2k_KcH"
      },
      "execution_count": null,
      "outputs": []
    },
    {
      "cell_type": "code",
      "source": [
        "name = 'Mahdi'\n",
        "age = \"24\"\n",
        "nationality = \"IRAN\"\n",
        "text = f\"My Name Is {name} And I Have {age} Years Old, I From {nationality}.\"\n",
        "print(text)"
      ],
      "metadata": {
        "id": "XnQ6EmX3_Pur"
      },
      "execution_count": null,
      "outputs": []
    }
  ]
}