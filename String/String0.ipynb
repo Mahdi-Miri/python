{
  "nbformat": 4,
  "nbformat_minor": 0,
  "metadata": {
    "colab": {
      "provenance": [],
      "authorship_tag": "ABX9TyOI2wBxXpTrfeTSq6URopPj",
      "include_colab_link": true
    },
    "kernelspec": {
      "name": "python3",
      "display_name": "Python 3"
    },
    "language_info": {
      "name": "python"
    }
  },
  "cells": [
    {
      "cell_type": "markdown",
      "metadata": {
        "id": "view-in-github",
        "colab_type": "text"
      },
      "source": [
        "<a href=\"https://colab.research.google.com/github/Mahdi-Miri/python/blob/main/String/String0.ipynb\" target=\"_parent\"><img src=\"https://colab.research.google.com/assets/colab-badge.svg\" alt=\"Open In Colab\"/></a>"
      ]
    },
    {
      "cell_type": "markdown",
      "source": [
        "# Work With Strings"
      ],
      "metadata": {
        "id": "SZnQK7HDzfEK"
      }
    },
    {
      "cell_type": "code",
      "execution_count": 8,
      "metadata": {
        "id": "uggMTGmHzT2X"
      },
      "outputs": [],
      "source": [
        "my_string = 'hello mahdi'"
      ]
    },
    {
      "cell_type": "code",
      "source": [
        "print(my_string)"
      ],
      "metadata": {
        "colab": {
          "base_uri": "https://localhost:8080/"
        },
        "id": "BEPFt8_Vznfy",
        "outputId": "b4351c37-1e02-4c4e-d8c3-201ada3147f2"
      },
      "execution_count": 9,
      "outputs": [
        {
          "output_type": "stream",
          "name": "stdout",
          "text": [
            "hello mahdi\n"
          ]
        }
      ]
    },
    {
      "cell_type": "code",
      "source": [
        "print(my_string[0])\n",
        "print(my_string[-1])\n",
        "print(my_string[0:4])"
      ],
      "metadata": {
        "colab": {
          "base_uri": "https://localhost:8080/"
        },
        "id": "bZ0TeKrzzsCH",
        "outputId": "f7f8dc0f-df72-4728-a123-bdcb1feab106"
      },
      "execution_count": 10,
      "outputs": [
        {
          "output_type": "stream",
          "name": "stdout",
          "text": [
            "h\n",
            "i\n",
            "hell\n"
          ]
        }
      ]
    },
    {
      "cell_type": "code",
      "source": [
        "st1 = 'hi'\n",
        "st2 = 'John'\n",
        "st3 = st1 + st2\n",
        "print(st3)\n",
        "st3 = st1 + \" \" + st2\n",
        "print(st3)"
      ],
      "metadata": {
        "colab": {
          "base_uri": "https://localhost:8080/"
        },
        "id": "vLnq4vXJ0CCG",
        "outputId": "255f2c7a-d1e4-4c9d-a056-91299a521d6e"
      },
      "execution_count": 11,
      "outputs": [
        {
          "output_type": "stream",
          "name": "stdout",
          "text": [
            "hiJohn\n",
            "hi John\n"
          ]
        }
      ]
    },
    {
      "cell_type": "code",
      "source": [
        "my_string = \"Hi \" * 4\n",
        "print(my_string)"
      ],
      "metadata": {
        "colab": {
          "base_uri": "https://localhost:8080/"
        },
        "id": "2LyqQE-u0WT7",
        "outputId": "efa09925-e3ba-4278-a984-2d1fccf8d8ec"
      },
      "execution_count": 12,
      "outputs": [
        {
          "output_type": "stream",
          "name": "stdout",
          "text": [
            "Hi Hi Hi Hi \n"
          ]
        }
      ]
    },
    {
      "cell_type": "code",
      "source": [
        "print(my_string.lower())\n",
        "print(my_string.upper())"
      ],
      "metadata": {
        "colab": {
          "base_uri": "https://localhost:8080/"
        },
        "id": "pa7BJCMP0o_z",
        "outputId": "b70e8f5c-6487-4023-fe10-972fef5f17f9"
      },
      "execution_count": 7,
      "outputs": [
        {
          "output_type": "stream",
          "name": "stdout",
          "text": [
            "hi hi hi hi \n",
            "HI HI HI HI \n"
          ]
        }
      ]
    },
    {
      "cell_type": "code",
      "source": [
        "my_string = \"hello people from anywhere\"\n",
        "my_string = my_string.split()\n",
        "print (my_string)\n",
        "my_string = ' '.join(my_string)\n",
        "print (my_string)\n"
      ],
      "metadata": {
        "colab": {
          "base_uri": "https://localhost:8080/"
        },
        "id": "NY4skd2B1Abd",
        "outputId": "de59f1ed-e2df-48c9-ad73-7c6d726b0e24"
      },
      "execution_count": 15,
      "outputs": [
        {
          "output_type": "stream",
          "name": "stdout",
          "text": [
            "['hello', 'people', 'from', 'anywhere']\n",
            "hello people from anywhere\n"
          ]
        }
      ]
    }
  ]
}